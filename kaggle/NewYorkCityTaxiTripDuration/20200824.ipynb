{
 "cells": [
  {
   "cell_type": "code",
   "execution_count": 1,
   "metadata": {},
   "outputs": [],
   "source": [
    "import numpy as np\n",
    "import pandas as pd\n",
    "import matplotlib.pyplot as plt\n",
    "import seaborn as sns\n",
    "import warnings\n",
    "%matplotlib inline\n",
    "warnings.filterwarnings('ignore')\n",
    "\n",
    "from IPython.core.interactiveshell import InteractiveShell\n",
    "InteractiveShell.ast_node_interactivity = \"all\"\n",
    "\n",
    "np.random.seed(601)\n",
    "\n",
    "from datetime import datetime, timedelta\n",
    "\n",
    "from tqdm import tqdm_notebook\n",
    "import time\n",
    "\n",
    "from haversine import haversine\n",
    "\n",
    "import pickle\n",
    "\n",
    "from sklearn.decomposition import PCA\n",
    "from sklearn.cluster import MiniBatchKMeans"
   ]
  },
  {
   "cell_type": "markdown",
   "metadata": {},
   "source": [
    "# 1. 데이터 Load"
   ]
  },
  {
   "cell_type": "code",
   "execution_count": 2,
   "metadata": {},
   "outputs": [],
   "source": [
    "train = pd.read_csv('data/train.csv', parse_dates=['pickup_datetime','dropoff_datetime'])\n",
    "test = pd.read_csv('data/test.csv', parse_dates=['pickup_datetime'])\n",
    "sample_submission = pd.read_csv('data/sample_submission.csv')"
   ]
  },
  {
   "cell_type": "code",
   "execution_count": 3,
   "metadata": {},
   "outputs": [
    {
     "data": {
      "text/plain": [
       "'\\nwith open(\"train.pkl\", \"wb\") as f:\\n    pickle.dump(train, f)\\n    \\nwith open(\"test.pkl\", \"wb\") as f:\\n    pickle.dump(test, f)    \\n'"
      ]
     },
     "execution_count": 3,
     "metadata": {},
     "output_type": "execute_result"
    }
   ],
   "source": [
    "# 순수하게 Load 해서 거리만 넣은 피클 \n",
    "\"\"\"\n",
    "with open(\"train.pkl\", \"wb\") as f:\n",
    "    pickle.dump(train, f)\n",
    "    \n",
    "with open(\"test.pkl\", \"wb\") as f:\n",
    "    pickle.dump(test, f)    \n",
    "\"\"\"\n",
    "with open(\"train.pkl\", \"rb\") as f:\n",
    "    train = pickle.load(f)    \n",
    "    \n",
    "with open(\"test.pkl\", \"rb\") as f:\n",
    "    test = pickle.load(f)        "
   ]
  },
  {
   "cell_type": "code",
   "execution_count": null,
   "metadata": {},
   "outputs": [],
   "source": []
  },
  {
   "cell_type": "code",
   "execution_count": null,
   "metadata": {},
   "outputs": [],
   "source": [
    "train.head()\n",
    "test.head()\n",
    "sample_submission.head()"
   ]
  },
  {
   "cell_type": "code",
   "execution_count": null,
   "metadata": {},
   "outputs": [],
   "source": []
  },
  {
   "cell_type": "markdown",
   "metadata": {},
   "source": [
    "# 2. 데이터 전처리\n",
    "## 2.1 EDA"
   ]
  },
  {
   "cell_type": "code",
   "execution_count": null,
   "metadata": {},
   "outputs": [],
   "source": [
    "train.shape\n",
    "test.shape\n",
    "sample_submission.shape"
   ]
  },
  {
   "cell_type": "code",
   "execution_count": null,
   "metadata": {},
   "outputs": [],
   "source": [
    "train.columns\n",
    "test.columns\n",
    "sample_submission.columns"
   ]
  },
  {
   "cell_type": "code",
   "execution_count": null,
   "metadata": {},
   "outputs": [],
   "source": [
    "train.info()"
   ]
  },
  {
   "cell_type": "code",
   "execution_count": null,
   "metadata": {},
   "outputs": [],
   "source": [
    "train.describe()"
   ]
  },
  {
   "cell_type": "markdown",
   "metadata": {},
   "source": [
    "### 기간"
   ]
  },
  {
   "cell_type": "code",
   "execution_count": null,
   "metadata": {},
   "outputs": [],
   "source": [
    "train.pickup_datetime.min(), train.pickup_datetime.max()\n",
    "# 년도는 동일, 월, 일, 시간, 요일 추출 \n",
    "\n",
    "test.pickup_datetime.min(), test.pickup_datetime.max()"
   ]
  },
  {
   "cell_type": "code",
   "execution_count": null,
   "metadata": {},
   "outputs": [],
   "source": [
    "train.head()"
   ]
  },
  {
   "cell_type": "markdown",
   "metadata": {},
   "source": [
    "### Outlier - 운행기간"
   ]
  },
  {
   "cell_type": "code",
   "execution_count": 4,
   "metadata": {},
   "outputs": [
    {
     "data": {
      "text/html": [
       "<div>\n",
       "<style scoped>\n",
       "    .dataframe tbody tr th:only-of-type {\n",
       "        vertical-align: middle;\n",
       "    }\n",
       "\n",
       "    .dataframe tbody tr th {\n",
       "        vertical-align: top;\n",
       "    }\n",
       "\n",
       "    .dataframe thead th {\n",
       "        text-align: right;\n",
       "    }\n",
       "</style>\n",
       "<table border=\"1\" class=\"dataframe\">\n",
       "  <thead>\n",
       "    <tr style=\"text-align: right;\">\n",
       "      <th></th>\n",
       "      <th>id</th>\n",
       "      <th>vendor_id</th>\n",
       "      <th>pickup_datetime</th>\n",
       "      <th>dropoff_datetime</th>\n",
       "      <th>passenger_count</th>\n",
       "      <th>pickup_longitude</th>\n",
       "      <th>pickup_latitude</th>\n",
       "      <th>dropoff_longitude</th>\n",
       "      <th>dropoff_latitude</th>\n",
       "      <th>store_and_fwd_flag</th>\n",
       "      <th>trip_duration</th>\n",
       "      <th>dist</th>\n",
       "    </tr>\n",
       "  </thead>\n",
       "  <tbody>\n",
       "    <tr>\n",
       "      <th>355003</th>\n",
       "      <td>id1864733</td>\n",
       "      <td>1</td>\n",
       "      <td>2016-01-05 00:19:42</td>\n",
       "      <td>2016-01-27 11:08:38</td>\n",
       "      <td>1</td>\n",
       "      <td>-73.789650</td>\n",
       "      <td>40.643559</td>\n",
       "      <td>-73.956810</td>\n",
       "      <td>40.773087</td>\n",
       "      <td>N</td>\n",
       "      <td>1939736</td>\n",
       "      <td>20.148692</td>\n",
       "    </tr>\n",
       "    <tr>\n",
       "      <th>680594</th>\n",
       "      <td>id0369307</td>\n",
       "      <td>1</td>\n",
       "      <td>2016-02-13 22:38:00</td>\n",
       "      <td>2016-03-08 15:57:38</td>\n",
       "      <td>2</td>\n",
       "      <td>-73.921677</td>\n",
       "      <td>40.735252</td>\n",
       "      <td>-73.984749</td>\n",
       "      <td>40.759979</td>\n",
       "      <td>N</td>\n",
       "      <td>2049578</td>\n",
       "      <td>5.982495</td>\n",
       "    </tr>\n",
       "    <tr>\n",
       "      <th>924150</th>\n",
       "      <td>id1325766</td>\n",
       "      <td>1</td>\n",
       "      <td>2016-01-05 06:14:15</td>\n",
       "      <td>2016-01-31 01:01:07</td>\n",
       "      <td>1</td>\n",
       "      <td>-73.983788</td>\n",
       "      <td>40.742325</td>\n",
       "      <td>-73.985489</td>\n",
       "      <td>40.727676</td>\n",
       "      <td>N</td>\n",
       "      <td>2227612</td>\n",
       "      <td>1.635130</td>\n",
       "    </tr>\n",
       "    <tr>\n",
       "      <th>978383</th>\n",
       "      <td>id0053347</td>\n",
       "      <td>1</td>\n",
       "      <td>2016-02-13 22:46:52</td>\n",
       "      <td>2016-03-25 18:18:14</td>\n",
       "      <td>1</td>\n",
       "      <td>-73.783905</td>\n",
       "      <td>40.648632</td>\n",
       "      <td>-73.978271</td>\n",
       "      <td>40.750202</td>\n",
       "      <td>N</td>\n",
       "      <td>3526282</td>\n",
       "      <td>19.900689</td>\n",
       "    </tr>\n",
       "  </tbody>\n",
       "</table>\n",
       "</div>"
      ],
      "text/plain": [
       "               id  vendor_id     pickup_datetime    dropoff_datetime  \\\n",
       "355003  id1864733          1 2016-01-05 00:19:42 2016-01-27 11:08:38   \n",
       "680594  id0369307          1 2016-02-13 22:38:00 2016-03-08 15:57:38   \n",
       "924150  id1325766          1 2016-01-05 06:14:15 2016-01-31 01:01:07   \n",
       "978383  id0053347          1 2016-02-13 22:46:52 2016-03-25 18:18:14   \n",
       "\n",
       "        passenger_count  pickup_longitude  pickup_latitude  dropoff_longitude  \\\n",
       "355003                1        -73.789650        40.643559         -73.956810   \n",
       "680594                2        -73.921677        40.735252         -73.984749   \n",
       "924150                1        -73.983788        40.742325         -73.985489   \n",
       "978383                1        -73.783905        40.648632         -73.978271   \n",
       "\n",
       "        dropoff_latitude store_and_fwd_flag  trip_duration       dist  \n",
       "355003         40.773087                  N        1939736  20.148692  \n",
       "680594         40.759979                  N        2049578   5.982495  \n",
       "924150         40.727676                  N        2227612   1.635130  \n",
       "978383         40.750202                  N        3526282  19.900689  "
      ]
     },
     "execution_count": 4,
     "metadata": {},
     "output_type": "execute_result"
    }
   ],
   "source": [
    "# 운행 기간 Outlier 삭제 \n",
    "train[(train.dropoff_datetime - train.pickup_datetime).dt.days > 1]\n",
    "idx = train[(train.dropoff_datetime - train.pickup_datetime).dt.days > 1].index\n",
    "\n",
    "train = train.drop(idx)"
   ]
  },
  {
   "cell_type": "code",
   "execution_count": null,
   "metadata": {},
   "outputs": [],
   "source": [
    "train.shape # (1458644, 12) -> (1458640, 12)"
   ]
  },
  {
   "cell_type": "markdown",
   "metadata": {},
   "source": [
    "### Target Date 시각화"
   ]
  },
  {
   "cell_type": "code",
   "execution_count": null,
   "metadata": {},
   "outputs": [],
   "source": [
    "train.trip_duration.plot()"
   ]
  },
  {
   "cell_type": "code",
   "execution_count": null,
   "metadata": {},
   "outputs": [],
   "source": []
  },
  {
   "cell_type": "code",
   "execution_count": null,
   "metadata": {},
   "outputs": [],
   "source": []
  },
  {
   "cell_type": "markdown",
   "metadata": {},
   "source": [
    "### Missing Value"
   ]
  },
  {
   "cell_type": "code",
   "execution_count": null,
   "metadata": {},
   "outputs": [],
   "source": [
    "train.isnull().sum().sum()"
   ]
  },
  {
   "cell_type": "markdown",
   "metadata": {},
   "source": [
    "### Value Counts"
   ]
  },
  {
   "cell_type": "code",
   "execution_count": null,
   "metadata": {},
   "outputs": [],
   "source": [
    "def value_counts(df):\n",
    "    for col in df.columns:\n",
    "        print(col)\n",
    "        print(train[col].value_counts())\n",
    "        \n",
    "value_counts(train[['passenger_count']])        "
   ]
  },
  {
   "cell_type": "code",
   "execution_count": null,
   "metadata": {},
   "outputs": [],
   "source": [
    "train[train['passenger_count'] >= 7]\n",
    "test[test['passenger_count'] >= 7]"
   ]
  },
  {
   "cell_type": "code",
   "execution_count": null,
   "metadata": {},
   "outputs": [],
   "source": [
    "train[train['dist'] == 0].head()\n",
    "test[test['dist'] == 0].head()"
   ]
  },
  {
   "cell_type": "code",
   "execution_count": 5,
   "metadata": {},
   "outputs": [],
   "source": [
    "# 위도 경도 같은 건 삭제 \n",
    "\n",
    "idx = train[train['dist'] == 0].index\n",
    "\n",
    "train = train.drop(idx)"
   ]
  },
  {
   "cell_type": "code",
   "execution_count": null,
   "metadata": {},
   "outputs": [],
   "source": [
    "train"
   ]
  },
  {
   "cell_type": "code",
   "execution_count": null,
   "metadata": {},
   "outputs": [],
   "source": []
  },
  {
   "cell_type": "code",
   "execution_count": null,
   "metadata": {},
   "outputs": [],
   "source": []
  },
  {
   "cell_type": "code",
   "execution_count": null,
   "metadata": {},
   "outputs": [],
   "source": [
    "pd.crosstab(train['vendor_id'], train['store_and_fwd_flag'], margins=True)"
   ]
  },
  {
   "cell_type": "code",
   "execution_count": null,
   "metadata": {},
   "outputs": [],
   "source": []
  },
  {
   "cell_type": "markdown",
   "metadata": {},
   "source": [
    "### trip_duration dropoff_datetime pickup_datetime 관계 확인 -> dropoff_datetime 빼고 학습?"
   ]
  },
  {
   "cell_type": "code",
   "execution_count": null,
   "metadata": {},
   "outputs": [],
   "source": [
    "(train['trip_duration'] == (train['dropoff_datetime'] - train['pickup_datetime']).astype('timedelta64[s]')).value_counts()"
   ]
  },
  {
   "cell_type": "code",
   "execution_count": null,
   "metadata": {},
   "outputs": [],
   "source": []
  },
  {
   "cell_type": "markdown",
   "metadata": {},
   "source": [
    "## 시각화\n",
    "### 지역: 경도/위도"
   ]
  },
  {
   "cell_type": "markdown",
   "metadata": {},
   "source": [
    "#### x: 위도(latitude)\n",
    "#### y: 경도(longitude) \n",
    "\n",
    "(pickup_latitude, pickup_longitude) -> (dropoff_latitude, dropoff_longitude)"
   ]
  },
  {
   "cell_type": "code",
   "execution_count": 19,
   "metadata": {},
   "outputs": [],
   "source": [
    "InteractiveShell.ast_node_interactivity = \"none\""
   ]
  },
  {
   "cell_type": "code",
   "execution_count": 21,
   "metadata": {},
   "outputs": [
    {
     "data": {
      "image/png": "[encoded data removed]",
      "text/plain": [
       "<Figure size 1440x720 with 2 Axes>"
      ]
     },
     "metadata": {
      "needs_background": "light"
     },
     "output_type": "display_data"
    }
   ],
   "source": [
    "fig, ax = plt.subplots(1,2, figsize=(20, 10), sharex=True, sharey=True)\n",
    "ax[0].set_title('pickup point')\n",
    "ax[0].set_xlabel('latitude')\n",
    "ax[0].set_ylabel('longitude')\n",
    "ax[0].scatter(train.pickup_latitude, train.pickup_longitude, marker='o')\n",
    "ax[1].set_title('dropoff point')\n",
    "ax[1].set_xlabel('latitude')\n",
    "ax[1].set_ylabel('longitude')\n",
    "ax[1].scatter(train.dropoff_latitude, train.dropoff_longitude, marker='o')\n",
    "plt.show()"
   ]
  },
  {
   "cell_type": "code",
   "execution_count": null,
   "metadata": {},
   "outputs": [],
   "source": [
    "InteractiveShell.ast_node_interactivity = \"all\""
   ]
  },
  {
   "cell_type": "code",
   "execution_count": 6,
   "metadata": {},
   "outputs": [],
   "source": [
    "# pickup point outlier \n",
    "idx = train[(train.pickup_longitude == train.pickup_longitude.min()) | (train.pickup_latitude == train.pickup_latitude.max())].index\n",
    "train = train.drop(idx)"
   ]
  },
  {
   "cell_type": "code",
   "execution_count": null,
   "metadata": {},
   "outputs": [],
   "source": [
    "train.shape # (1458640, 12) -> (1458638, 12)"
   ]
  },
  {
   "cell_type": "code",
   "execution_count": null,
   "metadata": {},
   "outputs": [],
   "source": [
    "InteractiveShell.ast_node_interactivity = \"none\""
   ]
  },
  {
   "cell_type": "code",
   "execution_count": null,
   "metadata": {},
   "outputs": [],
   "source": [
    "fig, ax = plt.subplots(1,2, figsize=(20, 10))\n",
    "ax[0].set_title('pickup point')\n",
    "ax[0].set_xlabel('latitude')\n",
    "ax[0].set_ylabel('longitude')\n",
    "ax[0].scatter(train.pickup_latitude, train.pickup_longitude, marker='o')\n",
    "ax[1].set_title('dropoff point')\n",
    "ax[1].set_xlabel('latitude')\n",
    "ax[1].set_ylabel('longitude')\n",
    "ax[1].scatter(train.dropoff_latitude, train.dropoff_longitude, marker='o')\n",
    "plt.show()"
   ]
  },
  {
   "cell_type": "code",
   "execution_count": null,
   "metadata": {},
   "outputs": [],
   "source": [
    "InteractiveShell.ast_node_interactivity = \"all\""
   ]
  },
  {
   "cell_type": "code",
   "execution_count": null,
   "metadata": {},
   "outputs": [],
   "source": [
    "len(train) # 1458637\n",
    "train.index.size"
   ]
  },
  {
   "cell_type": "markdown",
   "metadata": {},
   "source": [
    "outlier 가져갈것인가?"
   ]
  },
  {
   "cell_type": "code",
   "execution_count": null,
   "metadata": {},
   "outputs": [],
   "source": [
    "start = time.time()  # 시작 시간 저장\n",
    "\n",
    "# total = tqdm_notebook(range(len(train))) # outlier 삭제로 전체 건수 loop 안됨 \n",
    "\n",
    "fig, ax = plt.subplots(1,1, figsize=(20, 10))\n",
    "\n",
    "for i in train.index: # total:\n",
    "    plt.arrow(train.pickup_latitude[i], train.pickup_longitude[i]\n",
    "            , (train.dropoff_latitude[i]-train.pickup_latitude[i])\n",
    "            , (train.dropoff_longitude[i]-train.pickup_longitude[i]), head_width=0.01, head_length=0.01, fc='k', ec='k')\n",
    "    \n",
    "ax.set_title('start -> end arrow')\n",
    "ax.set_xlim(32, 42)\n",
    "ax.set_ylim(-90, -60)\n",
    "\n",
    "print(\"time :\", time.time() - start)  # 현재시각 - 시작시간 = 실행 시간"
   ]
  },
  {
   "cell_type": "code",
   "execution_count": null,
   "metadata": {},
   "outputs": [],
   "source": [
    "train['dist'].sort_values()"
   ]
  },
  {
   "cell_type": "code",
   "execution_count": null,
   "metadata": {},
   "outputs": [],
   "source": [
    "train[train['dist'] == train['dist'].max()]"
   ]
  },
  {
   "cell_type": "code",
   "execution_count": 7,
   "metadata": {},
   "outputs": [],
   "source": [
    "# 시간대비 거리가 너무 김 outlier \n",
    "idx = train[train['dist'] == train['dist'].max()].index\n",
    "train = train.drop(idx)"
   ]
  },
  {
   "cell_type": "code",
   "execution_count": null,
   "metadata": {},
   "outputs": [],
   "source": [
    "train.shape # (1458638, 12) -> (1458637, 12)"
   ]
  },
  {
   "cell_type": "code",
   "execution_count": null,
   "metadata": {},
   "outputs": [],
   "source": [
    "start = time.time()  # 시작 시간 저장\n",
    "\n",
    "# total = tqdm_notebook(range(len(train))) # outlier 삭제로 전체 건수 loop 안됨 \n",
    "\n",
    "fig, ax = plt.subplots(1,1, figsize=(20, 10))\n",
    "\n",
    "for i in train.index: # total:\n",
    "    plt.arrow(train.pickup_latitude[i], train.pickup_longitude[i]\n",
    "            , (train.dropoff_latitude[i]-train.pickup_latitude[i])\n",
    "            , (train.dropoff_longitude[i]-train.pickup_longitude[i]), head_width=0.01, head_length=0.01, fc='k', ec='k')\n",
    "    \n",
    "ax.set_title('start -> end arrow')\n",
    "ax.set_xlim(32, 42)\n",
    "ax.set_ylim(-90, -60)\n",
    "\n",
    "print(\"time :\", time.time() - start)  # 현재시각 - 시작시간 = 실행 시간"
   ]
  },
  {
   "cell_type": "code",
   "execution_count": null,
   "metadata": {},
   "outputs": [],
   "source": []
  },
  {
   "cell_type": "markdown",
   "metadata": {},
   "source": [
    "### 위도 경도로 거리 구하기 -> haversine"
   ]
  },
  {
   "cell_type": "code",
   "execution_count": null,
   "metadata": {},
   "outputs": [],
   "source": [
    "train['dist'] = 0.0\n",
    "\n",
    "start = time.time()  # 시작 시간 저장\n",
    "\n",
    "total = tqdm_notebook(range(len(train)))\n",
    "\n",
    "for i in total:\n",
    "    train['dist'][i] = haversine((train.pickup_latitude[i], train.pickup_longitude[i]), (train.dropoff_latitude[i], train.dropoff_longitude[i]))\n",
    "print(\"time :\", time.time() - start)  # 현재시각 - 시작시간 = 실행 시간"
   ]
  },
  {
   "cell_type": "code",
   "execution_count": null,
   "metadata": {},
   "outputs": [],
   "source": [
    "test['dist'] = 0.0\n",
    "\n",
    "start = time.time()  # 시작 시간 저장\n",
    "\n",
    "total = tqdm_notebook(range(len(test)))\n",
    "\n",
    "for i in total:\n",
    "    test['dist'][i] = haversine((test.pickup_latitude[i], test.pickup_longitude[i]), (test.dropoff_latitude[i], test.dropoff_longitude[i]))\n",
    "print(\"time :\", time.time() - start)  # 현재시각 - 시작시간 = 실행 시간"
   ]
  },
  {
   "cell_type": "code",
   "execution_count": null,
   "metadata": {},
   "outputs": [],
   "source": [
    "InteractiveShell.ast_node_interactivity = \"all\""
   ]
  },
  {
   "cell_type": "markdown",
   "metadata": {},
   "source": []
  },
  {
   "cell_type": "code",
   "execution_count": null,
   "metadata": {},
   "outputs": [],
   "source": []
  },
  {
   "cell_type": "code",
   "execution_count": null,
   "metadata": {},
   "outputs": [],
   "source": []
  },
  {
   "cell_type": "code",
   "execution_count": null,
   "metadata": {
    "scrolled": true
   },
   "outputs": [],
   "source": [
    "train.head()\n",
    "test.head()"
   ]
  },
  {
   "cell_type": "code",
   "execution_count": null,
   "metadata": {},
   "outputs": [],
   "source": []
  },
  {
   "cell_type": "markdown",
   "metadata": {},
   "source": [
    "### 시간: 픽업시간 (시간 -> 요일(평일/주말(공휴일)))"
   ]
  },
  {
   "cell_type": "code",
   "execution_count": null,
   "metadata": {},
   "outputs": [],
   "source": [
    "InteractiveShell.ast_node_interactivity = \"none\""
   ]
  },
  {
   "cell_type": "code",
   "execution_count": null,
   "metadata": {},
   "outputs": [],
   "source": [
    "fig, ax = plt.subplots(1,3, figsize=(20, 10))\n",
    "\n",
    "# 날짜별 분포\n",
    "ymd = train.pickup_datetime.dt.strftime('%Y-%m-%d').value_counts().sort_index()\n",
    "ax[0].set_title('date hist')\n",
    "ax[0].set_xlabel('date')\n",
    "ax[0].set_ylabel('count')\n",
    "ax[0].plot(ymd)\n",
    "\n",
    "# 평일/주말 분포 # (0:월, 1:화, 2:수, 3:목, 4:금, 5:토, 6:일)\n",
    "wk = train.pickup_datetime.dt.weekday.value_counts().sort_index()\n",
    "ax[1].set_title('weekday hist')\n",
    "ax[1].set_xlabel('weekday')\n",
    "ax[1].set_ylabel('count')\n",
    "ax[1].plot(wk)\n",
    "\n",
    "\n",
    "# 시간별 분포 \n",
    "hr = train.pickup_datetime.dt.strftime('%H').value_counts().sort_index()\n",
    "ax[2].set_title('hour hist')\n",
    "ax[2].set_xlabel('hour')\n",
    "ax[2].set_ylabel('count')\n",
    "ax[2].plot(hr)\n",
    "\n",
    "plt.show()"
   ]
  },
  {
   "cell_type": "code",
   "execution_count": null,
   "metadata": {},
   "outputs": [],
   "source": [
    "InteractiveShell.ast_node_interactivity = \"all\""
   ]
  },
  {
   "cell_type": "markdown",
   "metadata": {},
   "source": [
    "#### 1) date hist: 특정 날에 건수가 없는 날이 있음 제외 고려, 년/월/일/시 쪼개서 넣을것인가? 저 특이한 날은 제외하는게 학습에 도움이 되는가? 상관이 없는가? count 가 적으므로 dist 도 적어질테니까 없애는게 나을거 같은데... \n",
    "#### 2) weekday hist(0:월, 1:화, 2:수, 3:목, 4:금, 5:토, 6:일): 요일별 편차가 존재함\n",
    "#### 3) hour hist: 새벽시간 건수가 적음 -> 시간별로 묶는 변수를 추가할까? "
   ]
  },
  {
   "cell_type": "code",
   "execution_count": null,
   "metadata": {},
   "outputs": [],
   "source": [
    "InteractiveShell.ast_node_interactivity = \"all\""
   ]
  },
  {
   "cell_type": "code",
   "execution_count": null,
   "metadata": {},
   "outputs": [],
   "source": [
    "fig, ax = plt.subplots(1,1, figsize=(20, 10))\n",
    "\n",
    "# 시간별 탑승 건수\n",
    "datetimeCnt = train.pickup_datetime.dt.strftime('%Y-%m-%d %H').value_counts().sort_index()\n",
    "\n",
    "ax.set_title('datetime - count')\n",
    "ax.set_xlabel('datetime')\n",
    "ax.set_ylabel('count')\n",
    "ax.plot(datetimeCnt)\n",
    "\n",
    "plt.show()"
   ]
  },
  {
   "cell_type": "code",
   "execution_count": null,
   "metadata": {},
   "outputs": [],
   "source": [
    "# 거리 분포\n",
    "train.dist.plot()"
   ]
  },
  {
   "cell_type": "code",
   "execution_count": null,
   "metadata": {},
   "outputs": [],
   "source": [
    "train['dist'].groupby(train.pickup_datetime.dt.strftime('%Y-%m-%d')).sum()"
   ]
  },
  {
   "cell_type": "code",
   "execution_count": null,
   "metadata": {},
   "outputs": [],
   "source": [
    "fig, ax = plt.subplots(1,1, figsize=(20, 10))\n",
    "\n",
    "# 날자별 탑승 거리 \n",
    "dateDist = train['dist'].groupby(train.pickup_datetime.dt.strftime('%Y-%m-%d')).sum()\n",
    "\n",
    "ax.set_title('date - dist')\n",
    "ax.set_xlabel('date')\n",
    "ax.set_ylabel('dist')\n",
    "ax.plot(dateDist)\n",
    "\n",
    "plt.show()"
   ]
  },
  {
   "cell_type": "code",
   "execution_count": null,
   "metadata": {},
   "outputs": [],
   "source": [
    "dateDist[dateDist == dateDist.min()]"
   ]
  },
  {
   "cell_type": "code",
   "execution_count": null,
   "metadata": {},
   "outputs": [],
   "source": []
  },
  {
   "cell_type": "code",
   "execution_count": null,
   "metadata": {},
   "outputs": [],
   "source": [
    "fig, ax = plt.subplots(1,1, figsize=(20, 10))\n",
    "\n",
    "# 날자별 탑승 거리 \n",
    "dateDist_drop = train_drop['dist'].groupby(train_drop.pickup_datetime.dt.strftime('%Y-%m-%d')).sum()\n",
    "\n",
    "ax.set_title('date - dist')\n",
    "ax.set_xlabel('date')\n",
    "ax.set_ylabel('dist')\n",
    "ax.plot(dateDist_drop)\n",
    "\n",
    "plt.show()"
   ]
  },
  {
   "cell_type": "code",
   "execution_count": null,
   "metadata": {},
   "outputs": [],
   "source": [
    "dateDist_drop[dateDist_drop == dateDist_drop.min()]"
   ]
  },
  {
   "cell_type": "code",
   "execution_count": null,
   "metadata": {},
   "outputs": [],
   "source": []
  },
  {
   "cell_type": "code",
   "execution_count": null,
   "metadata": {},
   "outputs": [],
   "source": [
    "fig, ax = plt.subplots(1,1, figsize=(20, 10))\n",
    "\n",
    "# 날자별 탑승 거리 \n",
    "dateDist_drop = train_drop['dist'].groupby(train_drop.pickup_datetime.dt.strftime('%Y-%m-%d')).sum()\n",
    "\n",
    "ax.set_title('date - dist')\n",
    "ax.set_xlabel('date')\n",
    "ax.set_ylabel('dist')\n",
    "ax.plot(dateDist_drop)\n",
    "\n",
    "plt.show()"
   ]
  },
  {
   "cell_type": "markdown",
   "metadata": {},
   "source": [
    "## 클러스터링\n",
    "### 지역 클러스터: 경도/위도\n",
    "-> 거리 \n",
    "### 시간 클러스터: 픽업시간 시간 \n",
    "-> 요일(평일/주말(공휴일)))\n",
    "\n",
    "=> 클러스터링 결과로?\n",
    "1) 클러스터로 묶어서 레코드를 추가할 수도 있고\n",
    "2) 클러스터끼리 학습할 수도 있을것 같고"
   ]
  },
  {
   "cell_type": "code",
   "execution_count": null,
   "metadata": {},
   "outputs": [],
   "source": []
  },
  {
   "cell_type": "code",
   "execution_count": null,
   "metadata": {},
   "outputs": [],
   "source": []
  },
  {
   "cell_type": "code",
   "execution_count": 8,
   "metadata": {},
   "outputs": [],
   "source": [
    "# Feature Extraction\n",
    "coords = np.vstack((train[['pickup_latitude', 'pickup_longitude']].values,\n",
    "                    train[['dropoff_latitude', 'dropoff_longitude']].values,\n",
    "                    test[['pickup_latitude', 'pickup_longitude']].values,\n",
    "                    test[['dropoff_latitude', 'dropoff_longitude']].values))"
   ]
  },
  {
   "cell_type": "code",
   "execution_count": 9,
   "metadata": {},
   "outputs": [],
   "source": [
    "kmeans = MiniBatchKMeans(n_clusters=3, init='k-means++').fit(coords)"
   ]
  },
  {
   "cell_type": "code",
   "execution_count": null,
   "metadata": {},
   "outputs": [],
   "source": [
    "kmeans"
   ]
  },
  {
   "cell_type": "code",
   "execution_count": null,
   "metadata": {},
   "outputs": [],
   "source": [
    "pca = PCA().fit(coords)"
   ]
  },
  {
   "cell_type": "code",
   "execution_count": null,
   "metadata": {},
   "outputs": [],
   "source": [
    "# Clustering\n",
    "sample_ind = np.random.permutation(len(coords))[:500000]\n",
    "kmeans = MiniBatchKMeans(n_clusters=100, batch_size=10000).fit(coords[sample_ind])"
   ]
  },
  {
   "cell_type": "code",
   "execution_count": 10,
   "metadata": {},
   "outputs": [],
   "source": [
    "train.loc[:, 'pickup_cluster'] = kmeans.predict(train[['pickup_latitude', 'pickup_longitude']])\n",
    "train.loc[:, 'dropoff_cluster'] = kmeans.predict(train[['dropoff_latitude', 'dropoff_longitude']])\n",
    "test.loc[:, 'pickup_cluster'] = kmeans.predict(test[['pickup_latitude', 'pickup_longitude']])\n",
    "test.loc[:, 'dropoff_cluster'] = kmeans.predict(test[['dropoff_latitude', 'dropoff_longitude']])"
   ]
  },
  {
   "cell_type": "code",
   "execution_count": null,
   "metadata": {},
   "outputs": [],
   "source": [
    "train['pickup_cluster'].value_counts()"
   ]
  },
  {
   "cell_type": "code",
   "execution_count": null,
   "metadata": {},
   "outputs": [],
   "source": []
  },
  {
   "cell_type": "code",
   "execution_count": 23,
   "metadata": {},
   "outputs": [],
   "source": [
    "pca = PCA().fit(coords)\n",
    "train['pickup_pca0'] = pca.transform(train[['pickup_latitude', 'pickup_longitude']])[:, 0]\n",
    "train['pickup_pca1'] = pca.transform(train[['pickup_latitude', 'pickup_longitude']])[:, 1]\n",
    "train['dropoff_pca0'] = pca.transform(train[['dropoff_latitude', 'dropoff_longitude']])[:, 0]\n",
    "train['dropoff_pca1'] = pca.transform(train[['dropoff_latitude', 'dropoff_longitude']])[:, 1]\n",
    "test['pickup_pca0'] = pca.transform(test[['pickup_latitude', 'pickup_longitude']])[:, 0]\n",
    "test['pickup_pca1'] = pca.transform(test[['pickup_latitude', 'pickup_longitude']])[:, 1]\n",
    "test['dropoff_pca0'] = pca.transform(test[['dropoff_latitude', 'dropoff_longitude']])[:, 0]\n",
    "test['dropoff_pca1'] = pca.transform(test[['dropoff_latitude', 'dropoff_longitude']])[:, 1]"
   ]
  },
  {
   "cell_type": "code",
   "execution_count": null,
   "metadata": {},
   "outputs": [],
   "source": []
  },
  {
   "cell_type": "code",
   "execution_count": 22,
   "metadata": {},
   "outputs": [],
   "source": [
    "InteractiveShell.ast_node_interactivity = \"all\""
   ]
  },
  {
   "cell_type": "code",
   "execution_count": null,
   "metadata": {},
   "outputs": [],
   "source": []
  },
  {
   "cell_type": "code",
   "execution_count": 11,
   "metadata": {},
   "outputs": [],
   "source": [
    "# 년도는 동일, 월, 일, 시간, 요일 추출 \n",
    "train['pickup_mm'] = train.pickup_datetime.dt.strftime('%m').astype('int')\n",
    "train['pickup_dd'] = train.pickup_datetime.dt.strftime('%d').astype('int')\n",
    "#train['pickup_date'] = train.pickup_datetime.dt.strftime('%m%d')\n",
    "train['pickup_day'] = train['pickup_datetime'].dt.day\n",
    "train['pickup_hour'] = train['pickup_datetime'].dt.hour\n",
    "train['pickup_weekday'] = train.pickup_datetime.dt.weekday\n",
    "\n",
    "test['pickup_mm'] = test.pickup_datetime.dt.strftime('%m').astype('int')\n",
    "test['pickup_dd'] = test.pickup_datetime.dt.strftime('%d').astype('int')\n",
    "#test['pickup_date'] = test.pickup_datetime.dt.strftime('%m%d')\n",
    "test['pickup_day'] = test['pickup_datetime'].dt.day\n",
    "test['pickup_hour'] = test['pickup_datetime'].dt.hour\n",
    "test['pickup_weekday'] = test.pickup_datetime.dt.weekday"
   ]
  },
  {
   "cell_type": "code",
   "execution_count": null,
   "metadata": {},
   "outputs": [],
   "source": [
    "train['pickup_week'] = train.pickup_datetime.dt.dayofweek\n",
    "test['pickup_week'] = train.pickup_datetime.dt.dayofweek"
   ]
  },
  {
   "cell_type": "markdown",
   "metadata": {},
   "source": [
    "## 인코딩"
   ]
  },
  {
   "cell_type": "code",
   "execution_count": null,
   "metadata": {},
   "outputs": [],
   "source": [
    "train.columns"
   ]
  },
  {
   "cell_type": "code",
   "execution_count": null,
   "metadata": {},
   "outputs": [],
   "source": [
    "train = pd.get_dummies(train, columns=['passenger_count'], prefix='passenger_count')\n",
    "test = pd.get_dummies(test, columns=['passenger_count'], prefix='passenger_count')"
   ]
  },
  {
   "cell_type": "code",
   "execution_count": 12,
   "metadata": {},
   "outputs": [],
   "source": [
    "train = pd.get_dummies(train, columns=['vendor_id'], prefix='vendor_id')\n",
    "test = pd.get_dummies(test, columns=['vendor_id'], prefix='vendor_id')"
   ]
  },
  {
   "cell_type": "code",
   "execution_count": null,
   "metadata": {},
   "outputs": [],
   "source": [
    "train = pd.get_dummies(train, columns=['pickup_weekday'], prefix='pickup_weekday')\n",
    "test = pd.get_dummies(test, columns=['pickup_weekday'], prefix='pickup_weekday')"
   ]
  },
  {
   "cell_type": "code",
   "execution_count": 25,
   "metadata": {},
   "outputs": [],
   "source": [
    "train = pd.get_dummies(train, columns=['store_and_fwd_flag'], prefix='store_and_fwd_flag')\n",
    "test = pd.get_dummies(test, columns=['store_and_fwd_flag'], prefix='store_and_fwd_flag')"
   ]
  },
  {
   "cell_type": "code",
   "execution_count": 13,
   "metadata": {},
   "outputs": [],
   "source": [
    "train['store_and_fwd_flag'] = 1 * (train.store_and_fwd_flag.values == 'Y')\n",
    "test['store_and_fwd_flag'] = 1 * (test.store_and_fwd_flag.values == 'Y')"
   ]
  },
  {
   "cell_type": "code",
   "execution_count": null,
   "metadata": {},
   "outputs": [],
   "source": []
  },
  {
   "cell_type": "markdown",
   "metadata": {},
   "source": [
    "# 외부데이터"
   ]
  },
  {
   "cell_type": "code",
   "execution_count": 32,
   "metadata": {},
   "outputs": [],
   "source": [
    "fr1 = pd.read_csv('new-york-city-taxi-with-osrm/fastest_routes_train_part_1.csv',\n",
    "                  usecols=['id', 'total_distance', 'total_travel_time',  'number_of_steps'])\n",
    "fr2 = pd.read_csv('new-york-city-taxi-with-osrm/fastest_routes_train_part_2.csv',\n",
    "                  usecols=['id', 'total_distance', 'total_travel_time', 'number_of_steps'])\n",
    "test_street_info = pd.read_csv('new-york-city-taxi-with-osrm/fastest_routes_test.csv',\n",
    "                               usecols=['id', 'total_distance', 'total_travel_time', 'number_of_steps'])"
   ]
  },
  {
   "cell_type": "code",
   "execution_count": 35,
   "metadata": {},
   "outputs": [
    {
     "data": {
      "text/html": [
       "<div>\n",
       "<style scoped>\n",
       "    .dataframe tbody tr th:only-of-type {\n",
       "        vertical-align: middle;\n",
       "    }\n",
       "\n",
       "    .dataframe tbody tr th {\n",
       "        vertical-align: top;\n",
       "    }\n",
       "\n",
       "    .dataframe thead th {\n",
       "        text-align: right;\n",
       "    }\n",
       "</style>\n",
       "<table border=\"1\" class=\"dataframe\">\n",
       "  <thead>\n",
       "    <tr style=\"text-align: right;\">\n",
       "      <th></th>\n",
       "      <th>id</th>\n",
       "      <th>total_distance</th>\n",
       "      <th>total_travel_time</th>\n",
       "      <th>number_of_steps</th>\n",
       "    </tr>\n",
       "  </thead>\n",
       "  <tbody>\n",
       "    <tr>\n",
       "      <th>0</th>\n",
       "      <td>id2875421</td>\n",
       "      <td>2009.1</td>\n",
       "      <td>164.9</td>\n",
       "      <td>5</td>\n",
       "    </tr>\n",
       "    <tr>\n",
       "      <th>1</th>\n",
       "      <td>id2377394</td>\n",
       "      <td>2513.2</td>\n",
       "      <td>332.0</td>\n",
       "      <td>6</td>\n",
       "    </tr>\n",
       "    <tr>\n",
       "      <th>2</th>\n",
       "      <td>id3504673</td>\n",
       "      <td>1779.4</td>\n",
       "      <td>235.8</td>\n",
       "      <td>4</td>\n",
       "    </tr>\n",
       "    <tr>\n",
       "      <th>3</th>\n",
       "      <td>id2181028</td>\n",
       "      <td>1614.9</td>\n",
       "      <td>140.1</td>\n",
       "      <td>5</td>\n",
       "    </tr>\n",
       "    <tr>\n",
       "      <th>4</th>\n",
       "      <td>id0801584</td>\n",
       "      <td>1393.5</td>\n",
       "      <td>189.4</td>\n",
       "      <td>5</td>\n",
       "    </tr>\n",
       "    <tr>\n",
       "      <th>...</th>\n",
       "      <td>...</td>\n",
       "      <td>...</td>\n",
       "      <td>...</td>\n",
       "      <td>...</td>\n",
       "    </tr>\n",
       "    <tr>\n",
       "      <th>699995</th>\n",
       "      <td>id2460723</td>\n",
       "      <td>2724.2</td>\n",
       "      <td>265.8</td>\n",
       "      <td>5</td>\n",
       "    </tr>\n",
       "    <tr>\n",
       "      <th>699996</th>\n",
       "      <td>id2022803</td>\n",
       "      <td>4488.2</td>\n",
       "      <td>370.8</td>\n",
       "      <td>7</td>\n",
       "    </tr>\n",
       "    <tr>\n",
       "      <th>699997</th>\n",
       "      <td>id1091562</td>\n",
       "      <td>3529.0</td>\n",
       "      <td>281.1</td>\n",
       "      <td>3</td>\n",
       "    </tr>\n",
       "    <tr>\n",
       "      <th>699998</th>\n",
       "      <td>id3914165</td>\n",
       "      <td>2488.5</td>\n",
       "      <td>210.0</td>\n",
       "      <td>5</td>\n",
       "    </tr>\n",
       "    <tr>\n",
       "      <th>699999</th>\n",
       "      <td>id3176878</td>\n",
       "      <td>2016.8</td>\n",
       "      <td>201.1</td>\n",
       "      <td>5</td>\n",
       "    </tr>\n",
       "  </tbody>\n",
       "</table>\n",
       "<p>700000 rows × 4 columns</p>\n",
       "</div>"
      ],
      "text/plain": [
       "               id  total_distance  total_travel_time  number_of_steps\n",
       "0       id2875421          2009.1              164.9                5\n",
       "1       id2377394          2513.2              332.0                6\n",
       "2       id3504673          1779.4              235.8                4\n",
       "3       id2181028          1614.9              140.1                5\n",
       "4       id0801584          1393.5              189.4                5\n",
       "...           ...             ...                ...              ...\n",
       "699995  id2460723          2724.2              265.8                5\n",
       "699996  id2022803          4488.2              370.8                7\n",
       "699997  id1091562          3529.0              281.1                3\n",
       "699998  id3914165          2488.5              210.0                5\n",
       "699999  id3176878          2016.8              201.1                5\n",
       "\n",
       "[700000 rows x 4 columns]"
      ]
     },
     "execution_count": 35,
     "metadata": {},
     "output_type": "execute_result"
    },
    {
     "data": {
      "text/html": [
       "<div>\n",
       "<style scoped>\n",
       "    .dataframe tbody tr th:only-of-type {\n",
       "        vertical-align: middle;\n",
       "    }\n",
       "\n",
       "    .dataframe tbody tr th {\n",
       "        vertical-align: top;\n",
       "    }\n",
       "\n",
       "    .dataframe thead th {\n",
       "        text-align: right;\n",
       "    }\n",
       "</style>\n",
       "<table border=\"1\" class=\"dataframe\">\n",
       "  <thead>\n",
       "    <tr style=\"text-align: right;\">\n",
       "      <th></th>\n",
       "      <th>id</th>\n",
       "      <th>total_distance</th>\n",
       "      <th>total_travel_time</th>\n",
       "      <th>number_of_steps</th>\n",
       "    </tr>\n",
       "  </thead>\n",
       "  <tbody>\n",
       "    <tr>\n",
       "      <th>0</th>\n",
       "      <td>id0363241</td>\n",
       "      <td>2603.4</td>\n",
       "      <td>211.8</td>\n",
       "      <td>4</td>\n",
       "    </tr>\n",
       "    <tr>\n",
       "      <th>1</th>\n",
       "      <td>id1188175</td>\n",
       "      <td>1526.9</td>\n",
       "      <td>195.0</td>\n",
       "      <td>5</td>\n",
       "    </tr>\n",
       "    <tr>\n",
       "      <th>2</th>\n",
       "      <td>id3584231</td>\n",
       "      <td>2564.9</td>\n",
       "      <td>341.0</td>\n",
       "      <td>8</td>\n",
       "    </tr>\n",
       "    <tr>\n",
       "      <th>3</th>\n",
       "      <td>id3283815</td>\n",
       "      <td>3886.2</td>\n",
       "      <td>331.9</td>\n",
       "      <td>7</td>\n",
       "    </tr>\n",
       "    <tr>\n",
       "      <th>4</th>\n",
       "      <td>id0420326</td>\n",
       "      <td>1706.4</td>\n",
       "      <td>235.7</td>\n",
       "      <td>4</td>\n",
       "    </tr>\n",
       "    <tr>\n",
       "      <th>...</th>\n",
       "      <td>...</td>\n",
       "      <td>...</td>\n",
       "      <td>...</td>\n",
       "      <td>...</td>\n",
       "    </tr>\n",
       "    <tr>\n",
       "      <th>758638</th>\n",
       "      <td>id2976426</td>\n",
       "      <td>28051.1</td>\n",
       "      <td>1462.5</td>\n",
       "      <td>13</td>\n",
       "    </tr>\n",
       "    <tr>\n",
       "      <th>758639</th>\n",
       "      <td>id1440046</td>\n",
       "      <td>29616.3</td>\n",
       "      <td>1643.2</td>\n",
       "      <td>16</td>\n",
       "    </tr>\n",
       "    <tr>\n",
       "      <th>758640</th>\n",
       "      <td>id1607338</td>\n",
       "      <td>25615.0</td>\n",
       "      <td>1765.1</td>\n",
       "      <td>30</td>\n",
       "    </tr>\n",
       "    <tr>\n",
       "      <th>758641</th>\n",
       "      <td>id2071901</td>\n",
       "      <td>20284.1</td>\n",
       "      <td>1074.3</td>\n",
       "      <td>14</td>\n",
       "    </tr>\n",
       "    <tr>\n",
       "      <th>758642</th>\n",
       "      <td>id0995846</td>\n",
       "      <td>30302.5</td>\n",
       "      <td>1675.8</td>\n",
       "      <td>20</td>\n",
       "    </tr>\n",
       "  </tbody>\n",
       "</table>\n",
       "<p>758643 rows × 4 columns</p>\n",
       "</div>"
      ],
      "text/plain": [
       "               id  total_distance  total_travel_time  number_of_steps\n",
       "0       id0363241          2603.4              211.8                4\n",
       "1       id1188175          1526.9              195.0                5\n",
       "2       id3584231          2564.9              341.0                8\n",
       "3       id3283815          3886.2              331.9                7\n",
       "4       id0420326          1706.4              235.7                4\n",
       "...           ...             ...                ...              ...\n",
       "758638  id2976426         28051.1             1462.5               13\n",
       "758639  id1440046         29616.3             1643.2               16\n",
       "758640  id1607338         25615.0             1765.1               30\n",
       "758641  id2071901         20284.1             1074.3               14\n",
       "758642  id0995846         30302.5             1675.8               20\n",
       "\n",
       "[758643 rows x 4 columns]"
      ]
     },
     "execution_count": 35,
     "metadata": {},
     "output_type": "execute_result"
    },
    {
     "data": {
      "text/html": [
       "<div>\n",
       "<style scoped>\n",
       "    .dataframe tbody tr th:only-of-type {\n",
       "        vertical-align: middle;\n",
       "    }\n",
       "\n",
       "    .dataframe tbody tr th {\n",
       "        vertical-align: top;\n",
       "    }\n",
       "\n",
       "    .dataframe thead th {\n",
       "        text-align: right;\n",
       "    }\n",
       "</style>\n",
       "<table border=\"1\" class=\"dataframe\">\n",
       "  <thead>\n",
       "    <tr style=\"text-align: right;\">\n",
       "      <th></th>\n",
       "      <th>id</th>\n",
       "      <th>total_distance</th>\n",
       "      <th>total_travel_time</th>\n",
       "      <th>number_of_steps</th>\n",
       "    </tr>\n",
       "  </thead>\n",
       "  <tbody>\n",
       "    <tr>\n",
       "      <th>0</th>\n",
       "      <td>id0771704</td>\n",
       "      <td>1497.1</td>\n",
       "      <td>200.2</td>\n",
       "      <td>7</td>\n",
       "    </tr>\n",
       "    <tr>\n",
       "      <th>1</th>\n",
       "      <td>id3274209</td>\n",
       "      <td>1427.1</td>\n",
       "      <td>141.5</td>\n",
       "      <td>2</td>\n",
       "    </tr>\n",
       "    <tr>\n",
       "      <th>2</th>\n",
       "      <td>id2756455</td>\n",
       "      <td>2312.3</td>\n",
       "      <td>324.6</td>\n",
       "      <td>9</td>\n",
       "    </tr>\n",
       "    <tr>\n",
       "      <th>3</th>\n",
       "      <td>id3684027</td>\n",
       "      <td>931.8</td>\n",
       "      <td>84.2</td>\n",
       "      <td>4</td>\n",
       "    </tr>\n",
       "    <tr>\n",
       "      <th>4</th>\n",
       "      <td>id3101285</td>\n",
       "      <td>2501.7</td>\n",
       "      <td>294.7</td>\n",
       "      <td>8</td>\n",
       "    </tr>\n",
       "    <tr>\n",
       "      <th>...</th>\n",
       "      <td>...</td>\n",
       "      <td>...</td>\n",
       "      <td>...</td>\n",
       "      <td>...</td>\n",
       "    </tr>\n",
       "    <tr>\n",
       "      <th>625129</th>\n",
       "      <td>id3007749</td>\n",
       "      <td>8499.7</td>\n",
       "      <td>417.4</td>\n",
       "      <td>7</td>\n",
       "    </tr>\n",
       "    <tr>\n",
       "      <th>625130</th>\n",
       "      <td>id1674078</td>\n",
       "      <td>16688.7</td>\n",
       "      <td>890.4</td>\n",
       "      <td>11</td>\n",
       "    </tr>\n",
       "    <tr>\n",
       "      <th>625131</th>\n",
       "      <td>id2346166</td>\n",
       "      <td>15351.7</td>\n",
       "      <td>896.6</td>\n",
       "      <td>15</td>\n",
       "    </tr>\n",
       "    <tr>\n",
       "      <th>625132</th>\n",
       "      <td>id0689827</td>\n",
       "      <td>17591.6</td>\n",
       "      <td>1056.4</td>\n",
       "      <td>15</td>\n",
       "    </tr>\n",
       "    <tr>\n",
       "      <th>625133</th>\n",
       "      <td>id0700889</td>\n",
       "      <td>0.0</td>\n",
       "      <td>0.0</td>\n",
       "      <td>2</td>\n",
       "    </tr>\n",
       "  </tbody>\n",
       "</table>\n",
       "<p>625134 rows × 4 columns</p>\n",
       "</div>"
      ],
      "text/plain": [
       "               id  total_distance  total_travel_time  number_of_steps\n",
       "0       id0771704          1497.1              200.2                7\n",
       "1       id3274209          1427.1              141.5                2\n",
       "2       id2756455          2312.3              324.6                9\n",
       "3       id3684027           931.8               84.2                4\n",
       "4       id3101285          2501.7              294.7                8\n",
       "...           ...             ...                ...              ...\n",
       "625129  id3007749          8499.7              417.4                7\n",
       "625130  id1674078         16688.7              890.4               11\n",
       "625131  id2346166         15351.7              896.6               15\n",
       "625132  id0689827         17591.6             1056.4               15\n",
       "625133  id0700889             0.0                0.0                2\n",
       "\n",
       "[625134 rows x 4 columns]"
      ]
     },
     "execution_count": 35,
     "metadata": {},
     "output_type": "execute_result"
    }
   ],
   "source": [
    "fr1\n",
    "fr2\n",
    "test_street_info"
   ]
  },
  {
   "cell_type": "code",
   "execution_count": 36,
   "metadata": {},
   "outputs": [
    {
     "data": {
      "text/html": [
       "<div>\n",
       "<style scoped>\n",
       "    .dataframe tbody tr th:only-of-type {\n",
       "        vertical-align: middle;\n",
       "    }\n",
       "\n",
       "    .dataframe tbody tr th {\n",
       "        vertical-align: top;\n",
       "    }\n",
       "\n",
       "    .dataframe thead th {\n",
       "        text-align: right;\n",
       "    }\n",
       "</style>\n",
       "<table border=\"1\" class=\"dataframe\">\n",
       "  <thead>\n",
       "    <tr style=\"text-align: right;\">\n",
       "      <th></th>\n",
       "      <th>id</th>\n",
       "      <th>total_distance</th>\n",
       "      <th>total_travel_time</th>\n",
       "      <th>number_of_steps</th>\n",
       "    </tr>\n",
       "  </thead>\n",
       "  <tbody>\n",
       "    <tr>\n",
       "      <th>0</th>\n",
       "      <td>id2875421</td>\n",
       "      <td>2009.1</td>\n",
       "      <td>164.9</td>\n",
       "      <td>5</td>\n",
       "    </tr>\n",
       "    <tr>\n",
       "      <th>1</th>\n",
       "      <td>id2377394</td>\n",
       "      <td>2513.2</td>\n",
       "      <td>332.0</td>\n",
       "      <td>6</td>\n",
       "    </tr>\n",
       "    <tr>\n",
       "      <th>2</th>\n",
       "      <td>id3504673</td>\n",
       "      <td>1779.4</td>\n",
       "      <td>235.8</td>\n",
       "      <td>4</td>\n",
       "    </tr>\n",
       "    <tr>\n",
       "      <th>3</th>\n",
       "      <td>id2181028</td>\n",
       "      <td>1614.9</td>\n",
       "      <td>140.1</td>\n",
       "      <td>5</td>\n",
       "    </tr>\n",
       "    <tr>\n",
       "      <th>4</th>\n",
       "      <td>id0801584</td>\n",
       "      <td>1393.5</td>\n",
       "      <td>189.4</td>\n",
       "      <td>5</td>\n",
       "    </tr>\n",
       "    <tr>\n",
       "      <th>...</th>\n",
       "      <td>...</td>\n",
       "      <td>...</td>\n",
       "      <td>...</td>\n",
       "      <td>...</td>\n",
       "    </tr>\n",
       "    <tr>\n",
       "      <th>758638</th>\n",
       "      <td>id2976426</td>\n",
       "      <td>28051.1</td>\n",
       "      <td>1462.5</td>\n",
       "      <td>13</td>\n",
       "    </tr>\n",
       "    <tr>\n",
       "      <th>758639</th>\n",
       "      <td>id1440046</td>\n",
       "      <td>29616.3</td>\n",
       "      <td>1643.2</td>\n",
       "      <td>16</td>\n",
       "    </tr>\n",
       "    <tr>\n",
       "      <th>758640</th>\n",
       "      <td>id1607338</td>\n",
       "      <td>25615.0</td>\n",
       "      <td>1765.1</td>\n",
       "      <td>30</td>\n",
       "    </tr>\n",
       "    <tr>\n",
       "      <th>758641</th>\n",
       "      <td>id2071901</td>\n",
       "      <td>20284.1</td>\n",
       "      <td>1074.3</td>\n",
       "      <td>14</td>\n",
       "    </tr>\n",
       "    <tr>\n",
       "      <th>758642</th>\n",
       "      <td>id0995846</td>\n",
       "      <td>30302.5</td>\n",
       "      <td>1675.8</td>\n",
       "      <td>20</td>\n",
       "    </tr>\n",
       "  </tbody>\n",
       "</table>\n",
       "<p>1458643 rows × 4 columns</p>\n",
       "</div>"
      ],
      "text/plain": [
       "               id  total_distance  total_travel_time  number_of_steps\n",
       "0       id2875421          2009.1              164.9                5\n",
       "1       id2377394          2513.2              332.0                6\n",
       "2       id3504673          1779.4              235.8                4\n",
       "3       id2181028          1614.9              140.1                5\n",
       "4       id0801584          1393.5              189.4                5\n",
       "...           ...             ...                ...              ...\n",
       "758638  id2976426         28051.1             1462.5               13\n",
       "758639  id1440046         29616.3             1643.2               16\n",
       "758640  id1607338         25615.0             1765.1               30\n",
       "758641  id2071901         20284.1             1074.3               14\n",
       "758642  id0995846         30302.5             1675.8               20\n",
       "\n",
       "[1458643 rows x 4 columns]"
      ]
     },
     "execution_count": 36,
     "metadata": {},
     "output_type": "execute_result"
    }
   ],
   "source": [
    "train_street_info = pd.concat((fr1, fr2))\n",
    "train_street_info"
   ]
  },
  {
   "cell_type": "code",
   "execution_count": 37,
   "metadata": {},
   "outputs": [
    {
     "data": {
      "text/html": [
       "<div>\n",
       "<style scoped>\n",
       "    .dataframe tbody tr th:only-of-type {\n",
       "        vertical-align: middle;\n",
       "    }\n",
       "\n",
       "    .dataframe tbody tr th {\n",
       "        vertical-align: top;\n",
       "    }\n",
       "\n",
       "    .dataframe thead th {\n",
       "        text-align: right;\n",
       "    }\n",
       "</style>\n",
       "<table border=\"1\" class=\"dataframe\">\n",
       "  <thead>\n",
       "    <tr style=\"text-align: right;\">\n",
       "      <th></th>\n",
       "      <th>id</th>\n",
       "      <th>total_distance</th>\n",
       "      <th>total_travel_time</th>\n",
       "      <th>number_of_steps</th>\n",
       "    </tr>\n",
       "  </thead>\n",
       "  <tbody>\n",
       "    <tr>\n",
       "      <th>0</th>\n",
       "      <td>id2875421</td>\n",
       "      <td>2009.1</td>\n",
       "      <td>164.9</td>\n",
       "      <td>5</td>\n",
       "    </tr>\n",
       "    <tr>\n",
       "      <th>1</th>\n",
       "      <td>id2377394</td>\n",
       "      <td>2513.2</td>\n",
       "      <td>332.0</td>\n",
       "      <td>6</td>\n",
       "    </tr>\n",
       "    <tr>\n",
       "      <th>2</th>\n",
       "      <td>id3504673</td>\n",
       "      <td>1779.4</td>\n",
       "      <td>235.8</td>\n",
       "      <td>4</td>\n",
       "    </tr>\n",
       "    <tr>\n",
       "      <th>3</th>\n",
       "      <td>id2181028</td>\n",
       "      <td>1614.9</td>\n",
       "      <td>140.1</td>\n",
       "      <td>5</td>\n",
       "    </tr>\n",
       "    <tr>\n",
       "      <th>4</th>\n",
       "      <td>id0801584</td>\n",
       "      <td>1393.5</td>\n",
       "      <td>189.4</td>\n",
       "      <td>5</td>\n",
       "    </tr>\n",
       "  </tbody>\n",
       "</table>\n",
       "</div>"
      ],
      "text/plain": [
       "          id  total_distance  total_travel_time  number_of_steps\n",
       "0  id2875421          2009.1              164.9                5\n",
       "1  id2377394          2513.2              332.0                6\n",
       "2  id3504673          1779.4              235.8                4\n",
       "3  id2181028          1614.9              140.1                5\n",
       "4  id0801584          1393.5              189.4                5"
      ]
     },
     "execution_count": 37,
     "metadata": {},
     "output_type": "execute_result"
    }
   ],
   "source": [
    "train = train.merge(train_street_info, how='left', on='id')\n",
    "test = test.merge(test_street_info, how='left', on='id')\n",
    "train_street_info.head()"
   ]
  },
  {
   "cell_type": "code",
   "execution_count": 38,
   "metadata": {},
   "outputs": [
    {
     "data": {
      "text/html": [
       "<div>\n",
       "<style scoped>\n",
       "    .dataframe tbody tr th:only-of-type {\n",
       "        vertical-align: middle;\n",
       "    }\n",
       "\n",
       "    .dataframe tbody tr th {\n",
       "        vertical-align: top;\n",
       "    }\n",
       "\n",
       "    .dataframe thead th {\n",
       "        text-align: right;\n",
       "    }\n",
       "</style>\n",
       "<table border=\"1\" class=\"dataframe\">\n",
       "  <thead>\n",
       "    <tr style=\"text-align: right;\">\n",
       "      <th></th>\n",
       "      <th>id</th>\n",
       "      <th>pickup_datetime</th>\n",
       "      <th>dropoff_datetime</th>\n",
       "      <th>passenger_count</th>\n",
       "      <th>pickup_longitude</th>\n",
       "      <th>pickup_latitude</th>\n",
       "      <th>dropoff_longitude</th>\n",
       "      <th>dropoff_latitude</th>\n",
       "      <th>trip_duration</th>\n",
       "      <th>dist</th>\n",
       "      <th>...</th>\n",
       "      <th>vendor_id_2</th>\n",
       "      <th>pickup_pca0</th>\n",
       "      <th>pickup_pca1</th>\n",
       "      <th>dropoff_pca0</th>\n",
       "      <th>dropoff_pca1</th>\n",
       "      <th>store_and_fwd_flag_0</th>\n",
       "      <th>store_and_fwd_flag_1</th>\n",
       "      <th>total_distance</th>\n",
       "      <th>total_travel_time</th>\n",
       "      <th>number_of_steps</th>\n",
       "    </tr>\n",
       "  </thead>\n",
       "  <tbody>\n",
       "    <tr>\n",
       "      <th>0</th>\n",
       "      <td>id2875421</td>\n",
       "      <td>2016-03-14 17:24:55</td>\n",
       "      <td>2016-03-14 17:32:30</td>\n",
       "      <td>1</td>\n",
       "      <td>-73.982155</td>\n",
       "      <td>40.767937</td>\n",
       "      <td>-73.964630</td>\n",
       "      <td>40.765602</td>\n",
       "      <td>455</td>\n",
       "      <td>1.498523</td>\n",
       "      <td>...</td>\n",
       "      <td>1</td>\n",
       "      <td>0.007553</td>\n",
       "      <td>-0.017068</td>\n",
       "      <td>-0.009785</td>\n",
       "      <td>-0.013613</td>\n",
       "      <td>1</td>\n",
       "      <td>0</td>\n",
       "      <td>2009.1</td>\n",
       "      <td>164.9</td>\n",
       "      <td>5.0</td>\n",
       "    </tr>\n",
       "    <tr>\n",
       "      <th>1</th>\n",
       "      <td>id2377394</td>\n",
       "      <td>2016-06-12 00:43:35</td>\n",
       "      <td>2016-06-12 00:54:38</td>\n",
       "      <td>1</td>\n",
       "      <td>-73.980415</td>\n",
       "      <td>40.738564</td>\n",
       "      <td>-73.999481</td>\n",
       "      <td>40.731152</td>\n",
       "      <td>663</td>\n",
       "      <td>1.805510</td>\n",
       "      <td>...</td>\n",
       "      <td>0</td>\n",
       "      <td>0.007703</td>\n",
       "      <td>0.012357</td>\n",
       "      <td>0.027205</td>\n",
       "      <td>0.018530</td>\n",
       "      <td>1</td>\n",
       "      <td>0</td>\n",
       "      <td>2513.2</td>\n",
       "      <td>332.0</td>\n",
       "      <td>6.0</td>\n",
       "    </tr>\n",
       "    <tr>\n",
       "      <th>2</th>\n",
       "      <td>id3858529</td>\n",
       "      <td>2016-01-19 11:35:24</td>\n",
       "      <td>2016-01-19 12:10:48</td>\n",
       "      <td>1</td>\n",
       "      <td>-73.979027</td>\n",
       "      <td>40.763939</td>\n",
       "      <td>-74.005333</td>\n",
       "      <td>40.710087</td>\n",
       "      <td>2124</td>\n",
       "      <td>6.385107</td>\n",
       "      <td>...</td>\n",
       "      <td>1</td>\n",
       "      <td>0.004688</td>\n",
       "      <td>-0.012877</td>\n",
       "      <td>0.034396</td>\n",
       "      <td>0.039175</td>\n",
       "      <td>1</td>\n",
       "      <td>0</td>\n",
       "      <td>11060.8</td>\n",
       "      <td>767.6</td>\n",
       "      <td>16.0</td>\n",
       "    </tr>\n",
       "    <tr>\n",
       "      <th>3</th>\n",
       "      <td>id3504673</td>\n",
       "      <td>2016-04-06 19:32:31</td>\n",
       "      <td>2016-04-06 19:39:40</td>\n",
       "      <td>1</td>\n",
       "      <td>-74.010040</td>\n",
       "      <td>40.719971</td>\n",
       "      <td>-74.012268</td>\n",
       "      <td>40.706718</td>\n",
       "      <td>429</td>\n",
       "      <td>1.485500</td>\n",
       "      <td>...</td>\n",
       "      <td>1</td>\n",
       "      <td>0.038460</td>\n",
       "      <td>0.029010</td>\n",
       "      <td>0.041533</td>\n",
       "      <td>0.042092</td>\n",
       "      <td>1</td>\n",
       "      <td>0</td>\n",
       "      <td>1779.4</td>\n",
       "      <td>235.8</td>\n",
       "      <td>4.0</td>\n",
       "    </tr>\n",
       "    <tr>\n",
       "      <th>4</th>\n",
       "      <td>id2181028</td>\n",
       "      <td>2016-03-26 13:30:55</td>\n",
       "      <td>2016-03-26 13:38:10</td>\n",
       "      <td>1</td>\n",
       "      <td>-73.973053</td>\n",
       "      <td>40.793209</td>\n",
       "      <td>-73.972923</td>\n",
       "      <td>40.782520</td>\n",
       "      <td>435</td>\n",
       "      <td>1.188590</td>\n",
       "      <td>...</td>\n",
       "      <td>1</td>\n",
       "      <td>-0.003152</td>\n",
       "      <td>-0.041704</td>\n",
       "      <td>-0.002595</td>\n",
       "      <td>-0.031029</td>\n",
       "      <td>1</td>\n",
       "      <td>0</td>\n",
       "      <td>1614.9</td>\n",
       "      <td>140.1</td>\n",
       "      <td>5.0</td>\n",
       "    </tr>\n",
       "    <tr>\n",
       "      <th>...</th>\n",
       "      <td>...</td>\n",
       "      <td>...</td>\n",
       "      <td>...</td>\n",
       "      <td>...</td>\n",
       "      <td>...</td>\n",
       "      <td>...</td>\n",
       "      <td>...</td>\n",
       "      <td>...</td>\n",
       "      <td>...</td>\n",
       "      <td>...</td>\n",
       "      <td>...</td>\n",
       "      <td>...</td>\n",
       "      <td>...</td>\n",
       "      <td>...</td>\n",
       "      <td>...</td>\n",
       "      <td>...</td>\n",
       "      <td>...</td>\n",
       "      <td>...</td>\n",
       "      <td>...</td>\n",
       "      <td>...</td>\n",
       "      <td>...</td>\n",
       "    </tr>\n",
       "    <tr>\n",
       "      <th>1452735</th>\n",
       "      <td>id2376096</td>\n",
       "      <td>2016-04-08 13:31:04</td>\n",
       "      <td>2016-04-08 13:44:02</td>\n",
       "      <td>4</td>\n",
       "      <td>-73.982201</td>\n",
       "      <td>40.745522</td>\n",
       "      <td>-73.994911</td>\n",
       "      <td>40.740170</td>\n",
       "      <td>778</td>\n",
       "      <td>1.225082</td>\n",
       "      <td>...</td>\n",
       "      <td>1</td>\n",
       "      <td>0.009038</td>\n",
       "      <td>0.005298</td>\n",
       "      <td>0.022066</td>\n",
       "      <td>0.009824</td>\n",
       "      <td>1</td>\n",
       "      <td>0</td>\n",
       "      <td>2234.6</td>\n",
       "      <td>311.7</td>\n",
       "      <td>8.0</td>\n",
       "    </tr>\n",
       "    <tr>\n",
       "      <th>1452736</th>\n",
       "      <td>id1049543</td>\n",
       "      <td>2016-01-10 07:35:15</td>\n",
       "      <td>2016-01-10 07:46:10</td>\n",
       "      <td>1</td>\n",
       "      <td>-74.000946</td>\n",
       "      <td>40.747379</td>\n",
       "      <td>-73.970184</td>\n",
       "      <td>40.796547</td>\n",
       "      <td>655</td>\n",
       "      <td>6.049844</td>\n",
       "      <td>...</td>\n",
       "      <td>0</td>\n",
       "      <td>0.027625</td>\n",
       "      <td>0.002241</td>\n",
       "      <td>-0.006229</td>\n",
       "      <td>-0.044851</td>\n",
       "      <td>1</td>\n",
       "      <td>0</td>\n",
       "      <td>7638.0</td>\n",
       "      <td>589.6</td>\n",
       "      <td>11.0</td>\n",
       "    </tr>\n",
       "    <tr>\n",
       "      <th>1452737</th>\n",
       "      <td>id2304944</td>\n",
       "      <td>2016-04-22 06:57:41</td>\n",
       "      <td>2016-04-22 07:10:25</td>\n",
       "      <td>1</td>\n",
       "      <td>-73.959129</td>\n",
       "      <td>40.768799</td>\n",
       "      <td>-74.004433</td>\n",
       "      <td>40.707371</td>\n",
       "      <td>764</td>\n",
       "      <td>7.824617</td>\n",
       "      <td>...</td>\n",
       "      <td>1</td>\n",
       "      <td>-0.015480</td>\n",
       "      <td>-0.016450</td>\n",
       "      <td>0.033672</td>\n",
       "      <td>0.041944</td>\n",
       "      <td>1</td>\n",
       "      <td>0</td>\n",
       "      <td>9871.5</td>\n",
       "      <td>642.9</td>\n",
       "      <td>10.0</td>\n",
       "    </tr>\n",
       "    <tr>\n",
       "      <th>1452738</th>\n",
       "      <td>id2714485</td>\n",
       "      <td>2016-01-05 15:56:26</td>\n",
       "      <td>2016-01-05 16:02:39</td>\n",
       "      <td>1</td>\n",
       "      <td>-73.982079</td>\n",
       "      <td>40.749062</td>\n",
       "      <td>-73.974632</td>\n",
       "      <td>40.757107</td>\n",
       "      <td>373</td>\n",
       "      <td>1.092565</td>\n",
       "      <td>...</td>\n",
       "      <td>0</td>\n",
       "      <td>0.008689</td>\n",
       "      <td>0.001773</td>\n",
       "      <td>0.000741</td>\n",
       "      <td>-0.005777</td>\n",
       "      <td>1</td>\n",
       "      <td>0</td>\n",
       "      <td>1628.3</td>\n",
       "      <td>161.6</td>\n",
       "      <td>7.0</td>\n",
       "    </tr>\n",
       "    <tr>\n",
       "      <th>1452739</th>\n",
       "      <td>id1209952</td>\n",
       "      <td>2016-04-05 14:44:25</td>\n",
       "      <td>2016-04-05 14:47:43</td>\n",
       "      <td>1</td>\n",
       "      <td>-73.979538</td>\n",
       "      <td>40.781750</td>\n",
       "      <td>-73.972809</td>\n",
       "      <td>40.790585</td>\n",
       "      <td>198</td>\n",
       "      <td>1.134044</td>\n",
       "      <td>...</td>\n",
       "      <td>0</td>\n",
       "      <td>0.004055</td>\n",
       "      <td>-0.030684</td>\n",
       "      <td>-0.003227</td>\n",
       "      <td>-0.039069</td>\n",
       "      <td>1</td>\n",
       "      <td>0</td>\n",
       "      <td>1134.2</td>\n",
       "      <td>90.7</td>\n",
       "      <td>2.0</td>\n",
       "    </tr>\n",
       "  </tbody>\n",
       "</table>\n",
       "<p>1452740 rows × 28 columns</p>\n",
       "</div>"
      ],
      "text/plain": [
       "                id     pickup_datetime    dropoff_datetime  passenger_count  \\\n",
       "0        id2875421 2016-03-14 17:24:55 2016-03-14 17:32:30                1   \n",
       "1        id2377394 2016-06-12 00:43:35 2016-06-12 00:54:38                1   \n",
       "2        id3858529 2016-01-19 11:35:24 2016-01-19 12:10:48                1   \n",
       "3        id3504673 2016-04-06 19:32:31 2016-04-06 19:39:40                1   \n",
       "4        id2181028 2016-03-26 13:30:55 2016-03-26 13:38:10                1   \n",
       "...            ...                 ...                 ...              ...   \n",
       "1452735  id2376096 2016-04-08 13:31:04 2016-04-08 13:44:02                4   \n",
       "1452736  id1049543 2016-01-10 07:35:15 2016-01-10 07:46:10                1   \n",
       "1452737  id2304944 2016-04-22 06:57:41 2016-04-22 07:10:25                1   \n",
       "1452738  id2714485 2016-01-05 15:56:26 2016-01-05 16:02:39                1   \n",
       "1452739  id1209952 2016-04-05 14:44:25 2016-04-05 14:47:43                1   \n",
       "\n",
       "         pickup_longitude  pickup_latitude  dropoff_longitude  \\\n",
       "0              -73.982155        40.767937         -73.964630   \n",
       "1              -73.980415        40.738564         -73.999481   \n",
       "2              -73.979027        40.763939         -74.005333   \n",
       "3              -74.010040        40.719971         -74.012268   \n",
       "4              -73.973053        40.793209         -73.972923   \n",
       "...                   ...              ...                ...   \n",
       "1452735        -73.982201        40.745522         -73.994911   \n",
       "1452736        -74.000946        40.747379         -73.970184   \n",
       "1452737        -73.959129        40.768799         -74.004433   \n",
       "1452738        -73.982079        40.749062         -73.974632   \n",
       "1452739        -73.979538        40.781750         -73.972809   \n",
       "\n",
       "         dropoff_latitude  trip_duration      dist  ...  vendor_id_2  \\\n",
       "0               40.765602            455  1.498523  ...            1   \n",
       "1               40.731152            663  1.805510  ...            0   \n",
       "2               40.710087           2124  6.385107  ...            1   \n",
       "3               40.706718            429  1.485500  ...            1   \n",
       "4               40.782520            435  1.188590  ...            1   \n",
       "...                   ...            ...       ...  ...          ...   \n",
       "1452735         40.740170            778  1.225082  ...            1   \n",
       "1452736         40.796547            655  6.049844  ...            0   \n",
       "1452737         40.707371            764  7.824617  ...            1   \n",
       "1452738         40.757107            373  1.092565  ...            0   \n",
       "1452739         40.790585            198  1.134044  ...            0   \n",
       "\n",
       "         pickup_pca0  pickup_pca1  dropoff_pca0  dropoff_pca1  \\\n",
       "0           0.007553    -0.017068     -0.009785     -0.013613   \n",
       "1           0.007703     0.012357      0.027205      0.018530   \n",
       "2           0.004688    -0.012877      0.034396      0.039175   \n",
       "3           0.038460     0.029010      0.041533      0.042092   \n",
       "4          -0.003152    -0.041704     -0.002595     -0.031029   \n",
       "...              ...          ...           ...           ...   \n",
       "1452735     0.009038     0.005298      0.022066      0.009824   \n",
       "1452736     0.027625     0.002241     -0.006229     -0.044851   \n",
       "1452737    -0.015480    -0.016450      0.033672      0.041944   \n",
       "1452738     0.008689     0.001773      0.000741     -0.005777   \n",
       "1452739     0.004055    -0.030684     -0.003227     -0.039069   \n",
       "\n",
       "         store_and_fwd_flag_0  store_and_fwd_flag_1  total_distance  \\\n",
       "0                           1                     0          2009.1   \n",
       "1                           1                     0          2513.2   \n",
       "2                           1                     0         11060.8   \n",
       "3                           1                     0          1779.4   \n",
       "4                           1                     0          1614.9   \n",
       "...                       ...                   ...             ...   \n",
       "1452735                     1                     0          2234.6   \n",
       "1452736                     1                     0          7638.0   \n",
       "1452737                     1                     0          9871.5   \n",
       "1452738                     1                     0          1628.3   \n",
       "1452739                     1                     0          1134.2   \n",
       "\n",
       "         total_travel_time  number_of_steps  \n",
       "0                    164.9              5.0  \n",
       "1                    332.0              6.0  \n",
       "2                    767.6             16.0  \n",
       "3                    235.8              4.0  \n",
       "4                    140.1              5.0  \n",
       "...                    ...              ...  \n",
       "1452735              311.7              8.0  \n",
       "1452736              589.6             11.0  \n",
       "1452737              642.9             10.0  \n",
       "1452738              161.6              7.0  \n",
       "1452739               90.7              2.0  \n",
       "\n",
       "[1452740 rows x 28 columns]"
      ]
     },
     "execution_count": 38,
     "metadata": {},
     "output_type": "execute_result"
    },
    {
     "data": {
      "text/html": [
       "<div>\n",
       "<style scoped>\n",
       "    .dataframe tbody tr th:only-of-type {\n",
       "        vertical-align: middle;\n",
       "    }\n",
       "\n",
       "    .dataframe tbody tr th {\n",
       "        vertical-align: top;\n",
       "    }\n",
       "\n",
       "    .dataframe thead th {\n",
       "        text-align: right;\n",
       "    }\n",
       "</style>\n",
       "<table border=\"1\" class=\"dataframe\">\n",
       "  <thead>\n",
       "    <tr style=\"text-align: right;\">\n",
       "      <th></th>\n",
       "      <th>id</th>\n",
       "      <th>pickup_datetime</th>\n",
       "      <th>passenger_count</th>\n",
       "      <th>pickup_longitude</th>\n",
       "      <th>pickup_latitude</th>\n",
       "      <th>dropoff_longitude</th>\n",
       "      <th>dropoff_latitude</th>\n",
       "      <th>dist</th>\n",
       "      <th>pickup_cluster</th>\n",
       "      <th>dropoff_cluster</th>\n",
       "      <th>...</th>\n",
       "      <th>vendor_id_2</th>\n",
       "      <th>pickup_pca0</th>\n",
       "      <th>pickup_pca1</th>\n",
       "      <th>dropoff_pca0</th>\n",
       "      <th>dropoff_pca1</th>\n",
       "      <th>store_and_fwd_flag_0</th>\n",
       "      <th>store_and_fwd_flag_1</th>\n",
       "      <th>total_distance</th>\n",
       "      <th>total_travel_time</th>\n",
       "      <th>number_of_steps</th>\n",
       "    </tr>\n",
       "  </thead>\n",
       "  <tbody>\n",
       "    <tr>\n",
       "      <th>0</th>\n",
       "      <td>id3004672</td>\n",
       "      <td>2016-06-30 23:59:58</td>\n",
       "      <td>1</td>\n",
       "      <td>-73.988129</td>\n",
       "      <td>40.732029</td>\n",
       "      <td>-73.990173</td>\n",
       "      <td>40.756680</td>\n",
       "      <td>2.746430</td>\n",
       "      <td>1</td>\n",
       "      <td>1</td>\n",
       "      <td>...</td>\n",
       "      <td>0</td>\n",
       "      <td>0.015819</td>\n",
       "      <td>0.018383</td>\n",
       "      <td>0.016278</td>\n",
       "      <td>-0.006348</td>\n",
       "      <td>1</td>\n",
       "      <td>0</td>\n",
       "      <td>3795.9</td>\n",
       "      <td>424.6</td>\n",
       "      <td>4</td>\n",
       "    </tr>\n",
       "    <tr>\n",
       "      <th>1</th>\n",
       "      <td>id3505355</td>\n",
       "      <td>2016-06-30 23:59:53</td>\n",
       "      <td>1</td>\n",
       "      <td>-73.964203</td>\n",
       "      <td>40.679993</td>\n",
       "      <td>-73.959808</td>\n",
       "      <td>40.655403</td>\n",
       "      <td>2.759243</td>\n",
       "      <td>1</td>\n",
       "      <td>1</td>\n",
       "      <td>...</td>\n",
       "      <td>0</td>\n",
       "      <td>-0.004717</td>\n",
       "      <td>0.071847</td>\n",
       "      <td>-0.007525</td>\n",
       "      <td>0.096668</td>\n",
       "      <td>1</td>\n",
       "      <td>0</td>\n",
       "      <td>2904.5</td>\n",
       "      <td>200.0</td>\n",
       "      <td>4</td>\n",
       "    </tr>\n",
       "    <tr>\n",
       "      <th>2</th>\n",
       "      <td>id1217141</td>\n",
       "      <td>2016-06-30 23:59:47</td>\n",
       "      <td>1</td>\n",
       "      <td>-73.997437</td>\n",
       "      <td>40.737583</td>\n",
       "      <td>-73.986160</td>\n",
       "      <td>40.729523</td>\n",
       "      <td>1.306157</td>\n",
       "      <td>1</td>\n",
       "      <td>1</td>\n",
       "      <td>...</td>\n",
       "      <td>0</td>\n",
       "      <td>0.024752</td>\n",
       "      <td>0.012243</td>\n",
       "      <td>0.014016</td>\n",
       "      <td>0.021010</td>\n",
       "      <td>1</td>\n",
       "      <td>0</td>\n",
       "      <td>1499.5</td>\n",
       "      <td>193.2</td>\n",
       "      <td>4</td>\n",
       "    </tr>\n",
       "    <tr>\n",
       "      <th>3</th>\n",
       "      <td>id2150126</td>\n",
       "      <td>2016-06-30 23:59:41</td>\n",
       "      <td>1</td>\n",
       "      <td>-73.956070</td>\n",
       "      <td>40.771900</td>\n",
       "      <td>-73.986427</td>\n",
       "      <td>40.730469</td>\n",
       "      <td>5.269095</td>\n",
       "      <td>0</td>\n",
       "      <td>1</td>\n",
       "      <td>...</td>\n",
       "      <td>1</td>\n",
       "      <td>-0.018732</td>\n",
       "      <td>-0.019349</td>\n",
       "      <td>0.014222</td>\n",
       "      <td>0.020049</td>\n",
       "      <td>1</td>\n",
       "      <td>0</td>\n",
       "      <td>7023.9</td>\n",
       "      <td>494.8</td>\n",
       "      <td>11</td>\n",
       "    </tr>\n",
       "    <tr>\n",
       "      <th>4</th>\n",
       "      <td>id1598245</td>\n",
       "      <td>2016-06-30 23:59:33</td>\n",
       "      <td>1</td>\n",
       "      <td>-73.970215</td>\n",
       "      <td>40.761475</td>\n",
       "      <td>-73.961510</td>\n",
       "      <td>40.755890</td>\n",
       "      <td>0.960843</td>\n",
       "      <td>0</td>\n",
       "      <td>0</td>\n",
       "      <td>...</td>\n",
       "      <td>0</td>\n",
       "      <td>-0.003947</td>\n",
       "      <td>-0.009853</td>\n",
       "      <td>-0.012276</td>\n",
       "      <td>-0.003721</td>\n",
       "      <td>1</td>\n",
       "      <td>0</td>\n",
       "      <td>1108.2</td>\n",
       "      <td>103.2</td>\n",
       "      <td>4</td>\n",
       "    </tr>\n",
       "    <tr>\n",
       "      <th>...</th>\n",
       "      <td>...</td>\n",
       "      <td>...</td>\n",
       "      <td>...</td>\n",
       "      <td>...</td>\n",
       "      <td>...</td>\n",
       "      <td>...</td>\n",
       "      <td>...</td>\n",
       "      <td>...</td>\n",
       "      <td>...</td>\n",
       "      <td>...</td>\n",
       "      <td>...</td>\n",
       "      <td>...</td>\n",
       "      <td>...</td>\n",
       "      <td>...</td>\n",
       "      <td>...</td>\n",
       "      <td>...</td>\n",
       "      <td>...</td>\n",
       "      <td>...</td>\n",
       "      <td>...</td>\n",
       "      <td>...</td>\n",
       "      <td>...</td>\n",
       "    </tr>\n",
       "    <tr>\n",
       "      <th>625129</th>\n",
       "      <td>id3008929</td>\n",
       "      <td>2016-01-01 00:02:52</td>\n",
       "      <td>1</td>\n",
       "      <td>-74.003464</td>\n",
       "      <td>40.725105</td>\n",
       "      <td>-74.001251</td>\n",
       "      <td>40.733643</td>\n",
       "      <td>0.967439</td>\n",
       "      <td>1</td>\n",
       "      <td>1</td>\n",
       "      <td>...</td>\n",
       "      <td>0</td>\n",
       "      <td>0.031567</td>\n",
       "      <td>0.024308</td>\n",
       "      <td>0.028811</td>\n",
       "      <td>0.015930</td>\n",
       "      <td>1</td>\n",
       "      <td>0</td>\n",
       "      <td>1166.3</td>\n",
       "      <td>165.4</td>\n",
       "      <td>7</td>\n",
       "    </tr>\n",
       "    <tr>\n",
       "      <th>625130</th>\n",
       "      <td>id3700764</td>\n",
       "      <td>2016-01-01 00:01:52</td>\n",
       "      <td>1</td>\n",
       "      <td>-74.006363</td>\n",
       "      <td>40.743782</td>\n",
       "      <td>-73.953407</td>\n",
       "      <td>40.782467</td>\n",
       "      <td>6.196352</td>\n",
       "      <td>1</td>\n",
       "      <td>0</td>\n",
       "      <td>...</td>\n",
       "      <td>0</td>\n",
       "      <td>0.033262</td>\n",
       "      <td>0.005484</td>\n",
       "      <td>-0.022067</td>\n",
       "      <td>-0.029723</td>\n",
       "      <td>1</td>\n",
       "      <td>0</td>\n",
       "      <td>9572.1</td>\n",
       "      <td>676.1</td>\n",
       "      <td>10</td>\n",
       "    </tr>\n",
       "    <tr>\n",
       "      <th>625131</th>\n",
       "      <td>id2568735</td>\n",
       "      <td>2016-01-01 00:01:24</td>\n",
       "      <td>2</td>\n",
       "      <td>-73.972267</td>\n",
       "      <td>40.759865</td>\n",
       "      <td>-73.876602</td>\n",
       "      <td>40.748665</td>\n",
       "      <td>8.153730</td>\n",
       "      <td>0</td>\n",
       "      <td>0</td>\n",
       "      <td>...</td>\n",
       "      <td>0</td>\n",
       "      <td>-0.001796</td>\n",
       "      <td>-0.008378</td>\n",
       "      <td>-0.096545</td>\n",
       "      <td>0.008939</td>\n",
       "      <td>1</td>\n",
       "      <td>0</td>\n",
       "      <td>9492.3</td>\n",
       "      <td>687.0</td>\n",
       "      <td>13</td>\n",
       "    </tr>\n",
       "    <tr>\n",
       "      <th>625132</th>\n",
       "      <td>id1384355</td>\n",
       "      <td>2016-01-01 00:00:28</td>\n",
       "      <td>1</td>\n",
       "      <td>-73.976501</td>\n",
       "      <td>40.733562</td>\n",
       "      <td>-73.854263</td>\n",
       "      <td>40.891788</td>\n",
       "      <td>20.380776</td>\n",
       "      <td>1</td>\n",
       "      <td>0</td>\n",
       "      <td>...</td>\n",
       "      <td>0</td>\n",
       "      <td>0.004118</td>\n",
       "      <td>0.017599</td>\n",
       "      <td>-0.128023</td>\n",
       "      <td>-0.132456</td>\n",
       "      <td>1</td>\n",
       "      <td>0</td>\n",
       "      <td>23770.1</td>\n",
       "      <td>1295.1</td>\n",
       "      <td>21</td>\n",
       "    </tr>\n",
       "    <tr>\n",
       "      <th>625133</th>\n",
       "      <td>id0621643</td>\n",
       "      <td>2016-01-01 00:00:22</td>\n",
       "      <td>2</td>\n",
       "      <td>-73.981850</td>\n",
       "      <td>40.716881</td>\n",
       "      <td>-73.969330</td>\n",
       "      <td>40.769379</td>\n",
       "      <td>5.932027</td>\n",
       "      <td>1</td>\n",
       "      <td>0</td>\n",
       "      <td>...</td>\n",
       "      <td>1</td>\n",
       "      <td>0.010526</td>\n",
       "      <td>0.033903</td>\n",
       "      <td>-0.005338</td>\n",
       "      <td>-0.017684</td>\n",
       "      <td>1</td>\n",
       "      <td>0</td>\n",
       "      <td>8270.7</td>\n",
       "      <td>611.8</td>\n",
       "      <td>13</td>\n",
       "    </tr>\n",
       "  </tbody>\n",
       "</table>\n",
       "<p>625134 rows × 26 columns</p>\n",
       "</div>"
      ],
      "text/plain": [
       "               id     pickup_datetime  passenger_count  pickup_longitude  \\\n",
       "0       id3004672 2016-06-30 23:59:58                1        -73.988129   \n",
       "1       id3505355 2016-06-30 23:59:53                1        -73.964203   \n",
       "2       id1217141 2016-06-30 23:59:47                1        -73.997437   \n",
       "3       id2150126 2016-06-30 23:59:41                1        -73.956070   \n",
       "4       id1598245 2016-06-30 23:59:33                1        -73.970215   \n",
       "...           ...                 ...              ...               ...   \n",
       "625129  id3008929 2016-01-01 00:02:52                1        -74.003464   \n",
       "625130  id3700764 2016-01-01 00:01:52                1        -74.006363   \n",
       "625131  id2568735 2016-01-01 00:01:24                2        -73.972267   \n",
       "625132  id1384355 2016-01-01 00:00:28                1        -73.976501   \n",
       "625133  id0621643 2016-01-01 00:00:22                2        -73.981850   \n",
       "\n",
       "        pickup_latitude  dropoff_longitude  dropoff_latitude       dist  \\\n",
       "0             40.732029         -73.990173         40.756680   2.746430   \n",
       "1             40.679993         -73.959808         40.655403   2.759243   \n",
       "2             40.737583         -73.986160         40.729523   1.306157   \n",
       "3             40.771900         -73.986427         40.730469   5.269095   \n",
       "4             40.761475         -73.961510         40.755890   0.960843   \n",
       "...                 ...                ...               ...        ...   \n",
       "625129        40.725105         -74.001251         40.733643   0.967439   \n",
       "625130        40.743782         -73.953407         40.782467   6.196352   \n",
       "625131        40.759865         -73.876602         40.748665   8.153730   \n",
       "625132        40.733562         -73.854263         40.891788  20.380776   \n",
       "625133        40.716881         -73.969330         40.769379   5.932027   \n",
       "\n",
       "        pickup_cluster  dropoff_cluster  ...  vendor_id_2  pickup_pca0  \\\n",
       "0                    1                1  ...            0     0.015819   \n",
       "1                    1                1  ...            0    -0.004717   \n",
       "2                    1                1  ...            0     0.024752   \n",
       "3                    0                1  ...            1    -0.018732   \n",
       "4                    0                0  ...            0    -0.003947   \n",
       "...                ...              ...  ...          ...          ...   \n",
       "625129               1                1  ...            0     0.031567   \n",
       "625130               1                0  ...            0     0.033262   \n",
       "625131               0                0  ...            0    -0.001796   \n",
       "625132               1                0  ...            0     0.004118   \n",
       "625133               1                0  ...            1     0.010526   \n",
       "\n",
       "        pickup_pca1  dropoff_pca0  dropoff_pca1  store_and_fwd_flag_0  \\\n",
       "0          0.018383      0.016278     -0.006348                     1   \n",
       "1          0.071847     -0.007525      0.096668                     1   \n",
       "2          0.012243      0.014016      0.021010                     1   \n",
       "3         -0.019349      0.014222      0.020049                     1   \n",
       "4         -0.009853     -0.012276     -0.003721                     1   \n",
       "...             ...           ...           ...                   ...   \n",
       "625129     0.024308      0.028811      0.015930                     1   \n",
       "625130     0.005484     -0.022067     -0.029723                     1   \n",
       "625131    -0.008378     -0.096545      0.008939                     1   \n",
       "625132     0.017599     -0.128023     -0.132456                     1   \n",
       "625133     0.033903     -0.005338     -0.017684                     1   \n",
       "\n",
       "        store_and_fwd_flag_1  total_distance  total_travel_time  \\\n",
       "0                          0          3795.9              424.6   \n",
       "1                          0          2904.5              200.0   \n",
       "2                          0          1499.5              193.2   \n",
       "3                          0          7023.9              494.8   \n",
       "4                          0          1108.2              103.2   \n",
       "...                      ...             ...                ...   \n",
       "625129                     0          1166.3              165.4   \n",
       "625130                     0          9572.1              676.1   \n",
       "625131                     0          9492.3              687.0   \n",
       "625132                     0         23770.1             1295.1   \n",
       "625133                     0          8270.7              611.8   \n",
       "\n",
       "        number_of_steps  \n",
       "0                     4  \n",
       "1                     4  \n",
       "2                     4  \n",
       "3                    11  \n",
       "4                     4  \n",
       "...                 ...  \n",
       "625129                7  \n",
       "625130               10  \n",
       "625131               13  \n",
       "625132               21  \n",
       "625133               13  \n",
       "\n",
       "[625134 rows x 26 columns]"
      ]
     },
     "execution_count": 38,
     "metadata": {},
     "output_type": "execute_result"
    }
   ],
   "source": [
    "train\n",
    "test"
   ]
  },
  {
   "cell_type": "code",
   "execution_count": 55,
   "metadata": {},
   "outputs": [
    {
     "data": {
      "text/plain": [
       "id                      0\n",
       "pickup_datetime         0\n",
       "dropoff_datetime        0\n",
       "passenger_count         0\n",
       "pickup_longitude        0\n",
       "pickup_latitude         0\n",
       "dropoff_longitude       0\n",
       "dropoff_latitude        0\n",
       "trip_duration           0\n",
       "dist                    0\n",
       "pickup_cluster          0\n",
       "dropoff_cluster         0\n",
       "pickup_mm               0\n",
       "pickup_dd               0\n",
       "pickup_day              0\n",
       "pickup_hour             0\n",
       "pickup_weekday          0\n",
       "vendor_id_1             0\n",
       "vendor_id_2             0\n",
       "pickup_pca0             0\n",
       "pickup_pca1             0\n",
       "dropoff_pca0            0\n",
       "dropoff_pca1            0\n",
       "store_and_fwd_flag_0    0\n",
       "store_and_fwd_flag_1    0\n",
       "total_distance          0\n",
       "total_travel_time       0\n",
       "number_of_steps         0\n",
       "dtype: int64"
      ]
     },
     "execution_count": 55,
     "metadata": {},
     "output_type": "execute_result"
    },
    {
     "data": {
      "text/plain": [
       "0"
      ]
     },
     "execution_count": 55,
     "metadata": {},
     "output_type": "execute_result"
    }
   ],
   "source": [
    "train.isnull().sum()\n",
    "test.isnull().sum().sum()"
   ]
  },
  {
   "cell_type": "code",
   "execution_count": 53,
   "metadata": {},
   "outputs": [
    {
     "data": {
      "text/plain": [
       "Int64Index([1128919], dtype='int64')"
      ]
     },
     "execution_count": 53,
     "metadata": {},
     "output_type": "execute_result"
    }
   ],
   "source": []
  },
  {
   "cell_type": "code",
   "execution_count": 54,
   "metadata": {},
   "outputs": [],
   "source": [
    "# \n",
    "idx = train[(train.total_distance.isnull()==True)].index\n",
    "\n",
    "train = train.drop(idx)"
   ]
  },
  {
   "cell_type": "markdown",
   "metadata": {},
   "source": [
    "## corr"
   ]
  },
  {
   "cell_type": "code",
   "execution_count": null,
   "metadata": {},
   "outputs": [],
   "source": [
    "columns = [\n",
    "           #'vendor_id'\n",
    "           'vendor_id_1','vendor_id_2',\n",
    "    \n",
    "           'passenger_count'\n",
    "    \n",
    "           #, 'pickup_datetime'\n",
    "           #,'pickup_date'\n",
    "    \n",
    "           ,'pickup_mm'\n",
    "           ,'pickup_day','pickup_hour','pickup_weekday'\n",
    "           ,'pickup_longitude','pickup_latitude','dropoff_longitude','dropoff_latitude'\n",
    "           ,'dist'\n",
    "           ,'store_and_fwd_flag'\n",
    "           #,'store_and_fwd_flag_N','store_and_fwd_flag_Y'\n",
    "            ,'trip_duration'\n",
    "          ]\n",
    "train_corr = train[columns]\n",
    "train_corr.head()"
   ]
  },
  {
   "cell_type": "code",
   "execution_count": null,
   "metadata": {},
   "outputs": [],
   "source": [
    "plt.figure(figsize=(14, 12))\n",
    "sns.heatmap(train_corr.corr(), linewidths=0.1, vmax=1.0,\n",
    "           square=True, cmap=plt.cm.RdBu, linecolor='white', annot=True, fmt='.3f', annot_kws={\"size\": 16})"
   ]
  },
  {
   "cell_type": "code",
   "execution_count": null,
   "metadata": {},
   "outputs": [],
   "source": []
  },
  {
   "cell_type": "code",
   "execution_count": null,
   "metadata": {},
   "outputs": [],
   "source": []
  },
  {
   "cell_type": "markdown",
   "metadata": {},
   "source": [
    "# 3. 모델학습"
   ]
  },
  {
   "cell_type": "code",
   "execution_count": 14,
   "metadata": {},
   "outputs": [],
   "source": [
    "from sklearn.linear_model import LinearRegression, LogisticRegression\n",
    "from sklearn.ensemble import RandomForestRegressor, GradientBoostingRegressor, ExtraTreesRegressor\n",
    "from sklearn.tree import DecisionTreeRegressor\n",
    "from xgboost import XGBRegressor\n",
    "from lightgbm import LGBMRegressor"
   ]
  },
  {
   "cell_type": "code",
   "execution_count": null,
   "metadata": {},
   "outputs": [],
   "source": []
  },
  {
   "cell_type": "code",
   "execution_count": null,
   "metadata": {},
   "outputs": [],
   "source": [
    "train.columns"
   ]
  },
  {
   "cell_type": "code",
   "execution_count": 39,
   "metadata": {},
   "outputs": [
    {
     "data": {
      "text/plain": [
       "Index(['id', 'pickup_datetime', 'passenger_count', 'pickup_longitude',\n",
       "       'pickup_latitude', 'dropoff_longitude', 'dropoff_latitude', 'dist',\n",
       "       'pickup_cluster', 'dropoff_cluster', 'pickup_mm', 'pickup_dd',\n",
       "       'pickup_day', 'pickup_hour', 'pickup_weekday', 'vendor_id_1',\n",
       "       'vendor_id_2', 'pickup_pca0', 'pickup_pca1', 'dropoff_pca0',\n",
       "       'dropoff_pca1', 'store_and_fwd_flag_0', 'store_and_fwd_flag_1',\n",
       "       'total_distance', 'total_travel_time', 'number_of_steps'],\n",
       "      dtype='object')"
      ]
     },
     "execution_count": 39,
     "metadata": {},
     "output_type": "execute_result"
    }
   ],
   "source": [
    "test.columns"
   ]
  },
  {
   "cell_type": "code",
   "execution_count": 56,
   "metadata": {},
   "outputs": [],
   "source": [
    "#train.columns\n",
    "\n",
    "columns = [\n",
    "           #'vendor_id'\n",
    "           'vendor_id_1','vendor_id_2',\n",
    "    \n",
    "           'passenger_count'\n",
    "       #'passenger_count_0', 'passenger_count_1',\n",
    "       #'passenger_count_2', 'passenger_count_3', 'passenger_count_4',\n",
    "       #'passenger_count_5', 'passenger_count_6', 'passenger_count_7',\n",
    "       #'passenger_count_8', 'passenger_count_9'\n",
    "    \n",
    "           #, 'pickup_datetime'\n",
    "           #,'pickup_date'\n",
    "    \n",
    "           ,'pickup_mm'#,'pickup_dd'\n",
    "           ,'pickup_day','pickup_hour'\n",
    "           #,'pickup_week'\n",
    "           ,'pickup_weekday'\n",
    "           #,'pickup_weekday_0','pickup_weekday_1','pickup_weekday_2'\n",
    "           #,'pickup_weekday_3','pickup_weekday_4','pickup_weekday_5','pickup_weekday_6'\n",
    "           ,'pickup_longitude','pickup_latitude','dropoff_longitude','dropoff_latitude'\n",
    "    \n",
    "           ,'dist'\n",
    "           \n",
    "           #,'store_and_fwd_flag'\n",
    "           ,'store_and_fwd_flag_0','store_and_fwd_flag_1'\n",
    "           #,'store_and_fwd_flag_N','store_and_fwd_flag_Y'\n",
    "    \n",
    "           ,'pickup_cluster', 'dropoff_cluster'\n",
    "    \n",
    "          #, 'pickup_pca0', 'pickup_pca1','dropoff_pca0', 'dropoff_pca1'\n",
    "    \n",
    "          ,'total_distance', 'total_travel_time', 'number_of_steps'\n",
    "          ]\n",
    "X_train = train[columns]\n",
    "#y_train = train['trip_duration']\n",
    "y_train = np.log1p(train['trip_duration'])\n",
    "\n",
    "X_test = test[columns]"
   ]
  },
  {
   "cell_type": "code",
   "execution_count": null,
   "metadata": {},
   "outputs": [],
   "source": [
    "X_train.head()\n",
    "X_train.info()  # 1458637 "
   ]
  },
  {
   "cell_type": "code",
   "execution_count": 57,
   "metadata": {},
   "outputs": [
    {
     "data": {
      "text/plain": [
       "RandomForestRegressor(bootstrap=True, ccp_alpha=0.0, criterion='mse',\n",
       "                      max_depth=None, max_features='auto', max_leaf_nodes=None,\n",
       "                      max_samples=None, min_impurity_decrease=0.0,\n",
       "                      min_impurity_split=None, min_samples_leaf=1,\n",
       "                      min_samples_split=2, min_weight_fraction_leaf=0.0,\n",
       "                      n_estimators=100, n_jobs=-1, oob_score=False,\n",
       "                      random_state=None, verbose=0, warm_start=False)"
      ]
     },
     "execution_count": 57,
     "metadata": {},
     "output_type": "execute_result"
    }
   ],
   "source": [
    "rf_reg = RandomForestRegressor(n_jobs=-1)\n",
    "rf_reg.fit(X_train, y_train)"
   ]
  },
  {
   "cell_type": "code",
   "execution_count": 59,
   "metadata": {},
   "outputs": [
    {
     "data": {
      "text/plain": [
       "XGBRegressor(base_score=0.5, booster='gbtree', colsample_bylevel=1,\n",
       "             colsample_bynode=1, colsample_bytree=1, gamma=0, gpu_id=-1,\n",
       "             importance_type='gain', interaction_constraints='',\n",
       "             learning_rate=0.300000012, max_delta_step=0, max_depth=6,\n",
       "             min_child_weight=1, missing=nan, monotone_constraints='()',\n",
       "             n_estimators=100, n_jobs=0, num_parallel_tree=1,\n",
       "             objective='reg:squarederror', random_state=0, reg_alpha=0,\n",
       "             reg_lambda=1, scale_pos_weight=1, subsample=1, tree_method='exact',\n",
       "             validate_parameters=1, verbosity=None)"
      ]
     },
     "execution_count": 59,
     "metadata": {},
     "output_type": "execute_result"
    }
   ],
   "source": [
    "xgb_reg = XGBRegressor()\n",
    "xgb_reg.fit(X_train, y_train)"
   ]
  },
  {
   "cell_type": "code",
   "execution_count": 60,
   "metadata": {},
   "outputs": [
    {
     "data": {
      "text/plain": [
       "LGBMRegressor(boosting_type='gbdt', class_weight=None, colsample_bytree=1.0,\n",
       "              importance_type='split', learning_rate=0.1, max_depth=-1,\n",
       "              min_child_samples=20, min_child_weight=0.001, min_split_gain=0.0,\n",
       "              n_estimators=100, n_jobs=-1, num_leaves=31, objective=None,\n",
       "              random_state=None, reg_alpha=0.0, reg_lambda=0.0, silent=True,\n",
       "              subsample=1.0, subsample_for_bin=200000, subsample_freq=0)"
      ]
     },
     "execution_count": 60,
     "metadata": {},
     "output_type": "execute_result"
    }
   ],
   "source": [
    "lgb_reg = LGBMRegressor()\n",
    "lgb_reg.fit(X_train, y_train)"
   ]
  },
  {
   "cell_type": "markdown",
   "metadata": {},
   "source": [
    "oneHot-store_and_fwd_flag-LinearRegression\n",
    "oneHot-store_and_fwd_flag-RandomForestRegressor\n",
    "oneHot-store_and_fwd_flag-XGBRegressor\n",
    "oneHot-store_and_fwd_flag-LGBMRegressor"
   ]
  },
  {
   "cell_type": "code",
   "execution_count": null,
   "metadata": {},
   "outputs": [],
   "source": []
  },
  {
   "cell_type": "code",
   "execution_count": 58,
   "metadata": {},
   "outputs": [],
   "source": [
    "# RandomForestRegressor\n",
    "y_pred_rf = rf_reg.predict(X_test)\n",
    "#sample_submission['trip_duration'] = y_pred_rf\n",
    "sample_submission['trip_duration'] = np.expm1(y_pred_rf)\n",
    "sample_submission.to_csv('./output/20200824-4.csv', index=False)"
   ]
  },
  {
   "cell_type": "code",
   "execution_count": null,
   "metadata": {},
   "outputs": [],
   "source": [
    "y_pred_rf = rf_reg.predict(X_test)"
   ]
  },
  {
   "cell_type": "code",
   "execution_count": null,
   "metadata": {},
   "outputs": [],
   "source": [
    "y_pred_xgb = xgb_reg.predict(X_test)\n",
    "y_pred_lgb = lgb_reg.predict(X_test)"
   ]
  },
  {
   "cell_type": "code",
   "execution_count": null,
   "metadata": {},
   "outputs": [],
   "source": [
    "# soft voting \n",
    "\n",
    "# y_pred = (0.5*y_pred_xgb + 0.5*y_pred_lgb) # 0.41729\n",
    "y_pred = (0.5*y_pred_rf + 0.3*y_pred_xgb + 0.2*y_pred_lgb) # \n",
    "\n",
    "\n",
    "sample_submission['trip_duration'] = np.expm1(y_pred)\n",
    "sample_submission.to_csv('./output/20200824-5.csv', index=False)"
   ]
  },
  {
   "cell_type": "code",
   "execution_count": 62,
   "metadata": {},
   "outputs": [],
   "source": [
    "# XGBRegressor\n",
    "y_pred_xgb = xgb_reg.predict(X_test)\n",
    "#sample_submission['trip_duration'] = y_pred_xgb\n",
    "sample_submission['trip_duration'] = np.expm1(y_pred_xgb)\n",
    "sample_submission.to_csv('./output/20200824-5.csv', index=False)"
   ]
  },
  {
   "cell_type": "code",
   "execution_count": 64,
   "metadata": {},
   "outputs": [],
   "source": [
    "# LGBMRegressor\n",
    "y_pred_lgb = lgb_reg.predict(X_test)\n",
    "#sample_submission['trip_duration'] = y_pred_lgb\n",
    "sample_submission['trip_duration'] = np.expm1(y_pred_lgb)\n",
    "sample_submission.to_csv('./output/20200824-6.csv', index=False)"
   ]
  },
  {
   "cell_type": "code",
   "execution_count": null,
   "metadata": {},
   "outputs": [],
   "source": []
  },
  {
   "cell_type": "markdown",
   "metadata": {},
   "source": [
    "dayofweek - RandomForestRegressor\n",
    "\n",
    "dayofweek - XGBRegressor\n",
    "dayofweek - LGBMRegressor"
   ]
  },
  {
   "cell_type": "code",
   "execution_count": 73,
   "metadata": {},
   "outputs": [
    {
     "data": {
      "text/plain": [
       "<matplotlib.axes._subplots.AxesSubplot at 0x29686c17208>"
      ]
     },
     "execution_count": 73,
     "metadata": {},
     "output_type": "execute_result"
    },
    {
     "data": {
      "image/png": "[encoded data removed]",
      "text/plain": [
       "<Figure size 432x288 with 1 Axes>"
      ]
     },
     "metadata": {
      "needs_background": "light"
     },
     "output_type": "display_data"
    }
   ],
   "source": [
    "model = rf_reg \n",
    "\n",
    "frt_importances = pd.Series(model.feature_importances_, index=X_test.columns)\n",
    "\n",
    "ftr_top = frt_importances.sort_values(ascending=False)[:10]\n",
    "\n",
    "sns.barplot(x=ftr_top, y=ftr_top.index)"
   ]
  },
  {
   "cell_type": "code",
   "execution_count": 74,
   "metadata": {},
   "outputs": [
    {
     "data": {
      "text/plain": [
       "<matplotlib.axes._subplots.AxesSubplot at 0x2969e6f8848>"
      ]
     },
     "execution_count": 74,
     "metadata": {},
     "output_type": "execute_result"
    },
    {
     "data": {
      "image/png": "[encoded data removed]",
      "text/plain": [
       "<Figure size 432x288 with 1 Axes>"
      ]
     },
     "metadata": {
      "needs_background": "light"
     },
     "output_type": "display_data"
    }
   ],
   "source": [
    "model = xgb_reg \n",
    "\n",
    "frt_importances = pd.Series(model.feature_importances_, index=X_test.columns)\n",
    "\n",
    "ftr_top = frt_importances.sort_values(ascending=False)[:10]\n",
    "\n",
    "sns.barplot(x=ftr_top, y=ftr_top.index)"
   ]
  },
  {
   "cell_type": "code",
   "execution_count": 77,
   "metadata": {},
   "outputs": [
    {
     "data": {
      "text/plain": [
       "<matplotlib.axes._subplots.AxesSubplot at 0x2969d5d2748>"
      ]
     },
     "execution_count": 77,
     "metadata": {},
     "output_type": "execute_result"
    },
    {
     "data": {
      "image/png": "[encoded data removed]",
      "text/plain": [
       "<Figure size 432x288 with 1 Axes>"
      ]
     },
     "metadata": {
      "needs_background": "light"
     },
     "output_type": "display_data"
    }
   ],
   "source": [
    "model = lgb_reg \n",
    "\n",
    "frt_importances = pd.Series(model.feature_importances_, index=X_test.columns)\n",
    "\n",
    "ftr_top = frt_importances.sort_values(ascending=False)[:10]\n",
    "\n",
    "sns.barplot(x=ftr_top, y=ftr_top.index)"
   ]
  },
  {
   "cell_type": "code",
   "execution_count": 78,
   "metadata": {},
   "outputs": [
    {
     "data": {
      "text/plain": [
       "20"
      ]
     },
     "execution_count": 78,
     "metadata": {},
     "output_type": "execute_result"
    }
   ],
   "source": [
    "import gc\n",
    "gc.collect()"
   ]
  }
 ],
 "metadata": {
  "kernelspec": {
   "display_name": "Python 3",
   "language": "python",
   "name": "python3"
  },
  "language_info": {
   "codemirror_mode": {
    "name": "ipython",
    "version": 3
   },
   "file_extension": ".py",
   "mimetype": "text/x-python",
   "name": "python",
   "nbconvert_exporter": "python",
   "pygments_lexer": "ipython3",
   "version": "3.7.6"
  }
 },
 "nbformat": 4,
 "nbformat_minor": 4
}
