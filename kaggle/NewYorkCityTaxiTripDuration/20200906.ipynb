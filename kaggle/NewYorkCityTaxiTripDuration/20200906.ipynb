{
 "cells": [
  {
   "cell_type": "code",
   "execution_count": 1,
   "metadata": {},
   "outputs": [
    {
     "data": {
      "text/plain": [
       "0"
      ]
     },
     "execution_count": 1,
     "metadata": {},
     "output_type": "execute_result"
    }
   ],
   "source": [
    "import numpy as np\n",
    "import pandas as pd\n",
    "import matplotlib.pyplot as plt\n",
    "import seaborn as sns\n",
    "import missingno\n",
    "\n",
    "import warnings\n",
    "warnings.filterwarnings('ignore')\n",
    "%matplotlib inline\n",
    "\n",
    "from IPython.core.interactiveshell import InteractiveShell\n",
    "InteractiveShell.ast_node_interactivity = \"all\"\n",
    "\n",
    "np.random.seed(42)\n",
    "\n",
    "from datetime import datetime, timedelta\n",
    "import time\n",
    "\n",
    "from tqdm import tqdm_notebook\n",
    "\n",
    "from haversine import haversine\n",
    "\n",
    "import pickle\n",
    "\n",
    "from sklearn.decomposition import PCA\n",
    "from sklearn.cluster import MiniBatchKMeans\n",
    "\n",
    "from sklearn.model_selection import train_test_split, GridSearchCV, cross_val_score\n",
    "from sklearn.metrics import mean_squared_log_error, mean_squared_error \n",
    "\n",
    "import gc\n",
    "gc.collect()"
   ]
  },
  {
   "cell_type": "markdown",
   "metadata": {},
   "source": [
    "# 1. 데이터 Load"
   ]
  },
  {
   "cell_type": "code",
   "execution_count": 2,
   "metadata": {},
   "outputs": [],
   "source": [
    "train = pd.read_csv('data/train.csv', parse_dates=['pickup_datetime','dropoff_datetime'])\n",
    "test = pd.read_csv('data/test.csv', parse_dates=['pickup_datetime'])\n",
    "sample_submission = pd.read_csv('data/sample_submission.csv')"
   ]
  },
  {
   "cell_type": "code",
   "execution_count": 3,
   "metadata": {},
   "outputs": [
    {
     "data": {
      "text/plain": [
       "((1458644, 11), (625134, 9), (625134, 2))"
      ]
     },
     "execution_count": 3,
     "metadata": {},
     "output_type": "execute_result"
    }
   ],
   "source": [
    "train.shape, test.shape, sample_submission.shape"
   ]
  },
  {
   "cell_type": "markdown",
   "metadata": {},
   "source": [
    "### df = train + test"
   ]
  },
  {
   "cell_type": "code",
   "execution_count": 4,
   "metadata": {},
   "outputs": [
    {
     "data": {
      "text/plain": [
       "(2083778, 11)"
      ]
     },
     "execution_count": 4,
     "metadata": {},
     "output_type": "execute_result"
    }
   ],
   "source": [
    "df = pd.concat((train, test)) # (2083778, 11)\n",
    "df.shape"
   ]
  },
  {
   "cell_type": "code",
   "execution_count": null,
   "metadata": {},
   "outputs": [],
   "source": []
  },
  {
   "cell_type": "markdown",
   "metadata": {},
   "source": [
    "# 2.  EDA & 전처리 -> Feature Engineering"
   ]
  },
  {
   "cell_type": "code",
   "execution_count": null,
   "metadata": {},
   "outputs": [],
   "source": [
    "train.info()"
   ]
  },
  {
   "cell_type": "markdown",
   "metadata": {},
   "source": [
    "### 확인목록\n",
    "#### object\n",
    "id, store_and_fwd_flag  \n",
    "#### int64         \n",
    "vendor_id           \n",
    "\n",
    "#### datetime64\n",
    "pickup_datetime, dropoff_datetime         "
   ]
  },
  {
   "cell_type": "code",
   "execution_count": null,
   "metadata": {},
   "outputs": [],
   "source": [
    "# object\n",
    "## id 중복 확인\n",
    "df[df.duplicated(['id'])]"
   ]
  },
  {
   "cell_type": "code",
   "execution_count": null,
   "metadata": {},
   "outputs": [],
   "source": [
    "# datetime64\n",
    "train.pickup_datetime.min(), train.pickup_datetime.max()\n",
    "test.pickup_datetime.min(), test.pickup_datetime.max()"
   ]
  },
  {
   "cell_type": "markdown",
   "metadata": {},
   "source": [
    "- 2016-01~2016-06 까지 동일한 기간의 다른 id 데이터 "
   ]
  },
  {
   "cell_type": "code",
   "execution_count": null,
   "metadata": {},
   "outputs": [],
   "source": []
  },
  {
   "cell_type": "code",
   "execution_count": null,
   "metadata": {
    "scrolled": true
   },
   "outputs": [],
   "source": [
    "train.describe(include='all')"
   ]
  },
  {
   "cell_type": "code",
   "execution_count": null,
   "metadata": {},
   "outputs": [],
   "source": []
  },
  {
   "cell_type": "markdown",
   "metadata": {},
   "source": [
    "### Missing Value"
   ]
  },
  {
   "cell_type": "code",
   "execution_count": null,
   "metadata": {},
   "outputs": [],
   "source": [
    "missingno.matrix(df, figsize = (15,8))"
   ]
  },
  {
   "cell_type": "code",
   "execution_count": null,
   "metadata": {},
   "outputs": [],
   "source": [
    "train.isnull().sum().sum()\n",
    "test.isnull().sum().sum()"
   ]
  },
  {
   "cell_type": "markdown",
   "metadata": {},
   "source": [
    "null value 없음"
   ]
  },
  {
   "cell_type": "code",
   "execution_count": null,
   "metadata": {},
   "outputs": [],
   "source": []
  },
  {
   "cell_type": "markdown",
   "metadata": {},
   "source": [
    "### Value Counts"
   ]
  },
  {
   "cell_type": "code",
   "execution_count": 5,
   "metadata": {},
   "outputs": [
    {
     "name": "stdout",
     "output_type": "stream",
     "text": [
      "vendor_id\n",
      "2    1114676\n",
      "1     969102\n",
      "Name: vendor_id, dtype: int64 \n",
      "\n",
      "store_and_fwd_flag\n",
      "N    2072303\n",
      "Y      11475\n",
      "Name: store_and_fwd_flag, dtype: int64 \n",
      "\n"
     ]
    }
   ],
   "source": [
    "def value_counts(df, cols):\n",
    "    for col in cols:\n",
    "        print(col)\n",
    "        print(df[col].value_counts(),'\\n')\n",
    "        \n",
    "value_counts(df, ['vendor_id', 'store_and_fwd_flag'])        "
   ]
  },
  {
   "cell_type": "code",
   "execution_count": 6,
   "metadata": {},
   "outputs": [
    {
     "name": "stdout",
     "output_type": "stream",
     "text": [
      "store_and_fwd_flag\n",
      "0    1450599\n",
      "1       8045\n",
      "Name: store_and_fwd_flag, dtype: int64 \n",
      "\n",
      "store_and_fwd_flag\n",
      "0    621704\n",
      "1      3430\n",
      "Name: store_and_fwd_flag, dtype: int64 \n",
      "\n"
     ]
    }
   ],
   "source": [
    "# store_and_fwd_flag 값 변환\n",
    "train['store_and_fwd_flag'] = np.where(train.store_and_fwd_flag == 'N', 0, 1)\n",
    "test['store_and_fwd_flag'] = np.where(test.store_and_fwd_flag == 'N', 0, 1)\n",
    "value_counts(train, ['store_and_fwd_flag'])        \n",
    "value_counts(test, ['store_and_fwd_flag'])        "
   ]
  },
  {
   "cell_type": "markdown",
   "metadata": {},
   "source": [
    "## 시각화"
   ]
  },
  {
   "cell_type": "code",
   "execution_count": null,
   "metadata": {},
   "outputs": [],
   "source": [
    "train.boxplot(figsize=(18, 8))"
   ]
  },
  {
   "cell_type": "code",
   "execution_count": 7,
   "metadata": {
    "scrolled": true
   },
   "outputs": [
    {
     "data": {
      "text/plain": [
       "(1458640, 11)"
      ]
     },
     "execution_count": 7,
     "metadata": {},
     "output_type": "execute_result"
    },
    {
     "data": {
      "text/plain": [
       "<matplotlib.axes._subplots.AxesSubplot at 0x2639df0c648>"
      ]
     },
     "execution_count": 7,
     "metadata": {},
     "output_type": "execute_result"
    },
    {
     "data": {
      "image/png": "[encoded data removed]",
      "text/plain": [
       "<Figure size 1296x576 with 1 Axes>"
      ]
     },
     "metadata": {
      "needs_background": "light"
     },
     "output_type": "display_data"
    }
   ],
   "source": [
    "# trip_duration 비정상적으로 큰 4건 제외\n",
    "train = train[(train.trip_duration < 90000)]\n",
    "train.shape\n",
    "train.boxplot(figsize=(18, 8))"
   ]
  },
  {
   "cell_type": "code",
   "execution_count": null,
   "metadata": {},
   "outputs": [],
   "source": [
    "train.trip_duration.hist(bins=1000)"
   ]
  },
  {
   "cell_type": "code",
   "execution_count": 8,
   "metadata": {},
   "outputs": [
    {
     "data": {
      "text/plain": [
       "<matplotlib.axes._subplots.AxesSubplot at 0x263a38df508>"
      ]
     },
     "execution_count": 8,
     "metadata": {},
     "output_type": "execute_result"
    },
    {
     "data": {
      "image/png": "[encoded data removed]",
      "text/plain": [
       "<Figure size 432x288 with 1 Axes>"
      ]
     },
     "metadata": {
      "needs_background": "light"
     },
     "output_type": "display_data"
    }
   ],
   "source": [
    "train[train.trip_duration < 10000]['trip_duration'].hist(bins=1000)"
   ]
  },
  {
   "cell_type": "code",
   "execution_count": 9,
   "metadata": {},
   "outputs": [
    {
     "data": {
      "text/plain": [
       "<matplotlib.axes._subplots.AxesSubplot at 0x263a8b36d08>"
      ]
     },
     "execution_count": 9,
     "metadata": {},
     "output_type": "execute_result"
    },
    {
     "data": {
      "image/png": "[encoded data removed]",
      "text/plain": [
       "<Figure size 432x288 with 1 Axes>"
      ]
     },
     "metadata": {
      "needs_background": "light"
     },
     "output_type": "display_data"
    }
   ],
   "source": [
    "cond = (train.trip_duration > 3500) & (train.trip_duration < 6000)\n",
    "train[cond]['trip_duration'].hist(bins=1000)"
   ]
  },
  {
   "cell_type": "code",
   "execution_count": 10,
   "metadata": {},
   "outputs": [
    {
     "data": {
      "text/plain": [
       "(1456077, 11)"
      ]
     },
     "execution_count": 10,
     "metadata": {},
     "output_type": "execute_result"
    },
    {
     "data": {
      "text/plain": [
       "<matplotlib.axes._subplots.AxesSubplot at 0x263ac1d0508>"
      ]
     },
     "execution_count": 10,
     "metadata": {},
     "output_type": "execute_result"
    },
    {
     "data": {
      "image/png": "[encoded data removed]",
      "text/plain": [
       "<Figure size 432x288 with 1 Axes>"
      ]
     },
     "metadata": {
      "needs_background": "light"
     },
     "output_type": "display_data"
    }
   ],
   "source": [
    "train = train[(train.trip_duration < 6000)]\n",
    "train.shape\n",
    "train.trip_duration.hist(bins=1000)"
   ]
  },
  {
   "cell_type": "code",
   "execution_count": 11,
   "metadata": {},
   "outputs": [
    {
     "data": {
      "text/plain": [
       "<matplotlib.axes._subplots.AxesSubplot at 0x263af30b508>"
      ]
     },
     "execution_count": 11,
     "metadata": {},
     "output_type": "execute_result"
    },
    {
     "data": {
      "image/png": "[encoded data removed]",
      "text/plain": [
       "<Figure size 432x288 with 1 Axes>"
      ]
     },
     "metadata": {
      "needs_background": "light"
     },
     "output_type": "display_data"
    }
   ],
   "source": [
    "np.log1p(train.trip_duration).hist(bins=1000)\n",
    "train['trip_duration'] = np.log1p(train.trip_duration)"
   ]
  },
  {
   "cell_type": "markdown",
   "metadata": {},
   "source": [
    "### passenger_count outlier"
   ]
  },
  {
   "cell_type": "code",
   "execution_count": 12,
   "metadata": {},
   "outputs": [
    {
     "data": {
      "text/plain": [
       "(59, 11)"
      ]
     },
     "execution_count": 12,
     "metadata": {},
     "output_type": "execute_result"
    },
    {
     "data": {
      "text/plain": [
       "Int64Index([ 136519,  194288,  217765,  263809,  278290,  301600,  303133,\n",
       "             337809,  375972,  383407,  412172,  415843,  437735,  447838,\n",
       "             521316,  553862,  582469,  621221,  649337,  676906,  718163,\n",
       "             722399,  727514,  776276,  777319,  796361,  827485,  875056,\n",
       "             904688,  911071,  914211,  919750,  921640,  934078,  954696,\n",
       "             986189, 1025067, 1032513, 1049209, 1092678, 1101359, 1122417,\n",
       "            1131166, 1144278, 1211269, 1257574, 1262950, 1265736, 1276436,\n",
       "            1280443, 1293792, 1296239, 1364548, 1368627, 1371117, 1414111,\n",
       "            1433427, 1443353, 1444936],\n",
       "           dtype='int64')"
      ]
     },
     "execution_count": 12,
     "metadata": {},
     "output_type": "execute_result"
    }
   ],
   "source": [
    "cond = (train.passenger_count == 0)\n",
    "train[cond].shape\n",
    "\n",
    "idx = train[cond].index\n",
    "idx\n",
    "\n",
    "train = train.drop(idx)"
   ]
  },
  {
   "cell_type": "code",
   "execution_count": null,
   "metadata": {},
   "outputs": [],
   "source": []
  },
  {
   "cell_type": "markdown",
   "metadata": {},
   "source": [
    "### 위도 경도\n",
    " - pickup_longitude, pickup_latitude -> dropoff_longitude dropoff_latitude"
   ]
  },
  {
   "cell_type": "markdown",
   "metadata": {},
   "source": [
    "#### pickup"
   ]
  },
  {
   "cell_type": "code",
   "execution_count": null,
   "metadata": {},
   "outputs": [],
   "source": [
    "plt.scatter(train.pickup_longitude, train.pickup_latitude)\n",
    "plt.xlabel('pickup_longitude')\n",
    "plt.ylabel('pickup_latitude')"
   ]
  },
  {
   "cell_type": "code",
   "execution_count": 13,
   "metadata": {},
   "outputs": [
    {
     "data": {
      "text/html": [
       "<div>\n",
       "<style scoped>\n",
       "    .dataframe tbody tr th:only-of-type {\n",
       "        vertical-align: middle;\n",
       "    }\n",
       "\n",
       "    .dataframe tbody tr th {\n",
       "        vertical-align: top;\n",
       "    }\n",
       "\n",
       "    .dataframe thead th {\n",
       "        text-align: right;\n",
       "    }\n",
       "</style>\n",
       "<table border=\"1\" class=\"dataframe\">\n",
       "  <thead>\n",
       "    <tr style=\"text-align: right;\">\n",
       "      <th></th>\n",
       "      <th>id</th>\n",
       "      <th>vendor_id</th>\n",
       "      <th>pickup_datetime</th>\n",
       "      <th>dropoff_datetime</th>\n",
       "      <th>passenger_count</th>\n",
       "      <th>pickup_longitude</th>\n",
       "      <th>pickup_latitude</th>\n",
       "      <th>dropoff_longitude</th>\n",
       "      <th>dropoff_latitude</th>\n",
       "      <th>store_and_fwd_flag</th>\n",
       "      <th>trip_duration</th>\n",
       "    </tr>\n",
       "  </thead>\n",
       "  <tbody>\n",
       "    <tr>\n",
       "      <th>1068810</th>\n",
       "      <td>id3777240</td>\n",
       "      <td>2</td>\n",
       "      <td>2016-01-27 18:26:40</td>\n",
       "      <td>2016-01-27 18:45:05</td>\n",
       "      <td>2</td>\n",
       "      <td>-121.933235</td>\n",
       "      <td>37.389297</td>\n",
       "      <td>-121.933205</td>\n",
       "      <td>37.389103</td>\n",
       "      <td>0</td>\n",
       "      <td>7.008505</td>\n",
       "    </tr>\n",
       "    <tr>\n",
       "      <th>1184454</th>\n",
       "      <td>id2854272</td>\n",
       "      <td>2</td>\n",
       "      <td>2016-02-26 13:50:19</td>\n",
       "      <td>2016-02-26 13:58:38</td>\n",
       "      <td>2</td>\n",
       "      <td>-121.933342</td>\n",
       "      <td>37.389381</td>\n",
       "      <td>-121.933304</td>\n",
       "      <td>37.389511</td>\n",
       "      <td>0</td>\n",
       "      <td>6.214608</td>\n",
       "    </tr>\n",
       "  </tbody>\n",
       "</table>\n",
       "</div>"
      ],
      "text/plain": [
       "                id  vendor_id     pickup_datetime    dropoff_datetime  \\\n",
       "1068810  id3777240          2 2016-01-27 18:26:40 2016-01-27 18:45:05   \n",
       "1184454  id2854272          2 2016-02-26 13:50:19 2016-02-26 13:58:38   \n",
       "\n",
       "         passenger_count  pickup_longitude  pickup_latitude  \\\n",
       "1068810                2       -121.933235        37.389297   \n",
       "1184454                2       -121.933342        37.389381   \n",
       "\n",
       "         dropoff_longitude  dropoff_latitude  store_and_fwd_flag  \\\n",
       "1068810        -121.933205         37.389103                   0   \n",
       "1184454        -121.933304         37.389511                   0   \n",
       "\n",
       "         trip_duration  \n",
       "1068810       7.008505  \n",
       "1184454       6.214608  "
      ]
     },
     "execution_count": 13,
     "metadata": {},
     "output_type": "execute_result"
    },
    {
     "data": {
      "text/html": [
       "<div>\n",
       "<style scoped>\n",
       "    .dataframe tbody tr th:only-of-type {\n",
       "        vertical-align: middle;\n",
       "    }\n",
       "\n",
       "    .dataframe tbody tr th {\n",
       "        vertical-align: top;\n",
       "    }\n",
       "\n",
       "    .dataframe thead th {\n",
       "        text-align: right;\n",
       "    }\n",
       "</style>\n",
       "<table border=\"1\" class=\"dataframe\">\n",
       "  <thead>\n",
       "    <tr style=\"text-align: right;\">\n",
       "      <th></th>\n",
       "      <th>id</th>\n",
       "      <th>vendor_id</th>\n",
       "      <th>pickup_datetime</th>\n",
       "      <th>dropoff_datetime</th>\n",
       "      <th>passenger_count</th>\n",
       "      <th>pickup_longitude</th>\n",
       "      <th>pickup_latitude</th>\n",
       "      <th>dropoff_longitude</th>\n",
       "      <th>dropoff_latitude</th>\n",
       "      <th>store_and_fwd_flag</th>\n",
       "      <th>trip_duration</th>\n",
       "    </tr>\n",
       "  </thead>\n",
       "  <tbody>\n",
       "    <tr>\n",
       "      <th>184925</th>\n",
       "      <td>id2306955</td>\n",
       "      <td>1</td>\n",
       "      <td>2016-05-07 18:58:53</td>\n",
       "      <td>2016-05-07 19:12:05</td>\n",
       "      <td>1</td>\n",
       "      <td>-72.809669</td>\n",
       "      <td>51.881084</td>\n",
       "      <td>-73.987228</td>\n",
       "      <td>40.750599</td>\n",
       "      <td>0</td>\n",
       "      <td>6.675823</td>\n",
       "    </tr>\n",
       "  </tbody>\n",
       "</table>\n",
       "</div>"
      ],
      "text/plain": [
       "               id  vendor_id     pickup_datetime    dropoff_datetime  \\\n",
       "184925  id2306955          1 2016-05-07 18:58:53 2016-05-07 19:12:05   \n",
       "\n",
       "        passenger_count  pickup_longitude  pickup_latitude  dropoff_longitude  \\\n",
       "184925                1        -72.809669        51.881084         -73.987228   \n",
       "\n",
       "        dropoff_latitude  store_and_fwd_flag  trip_duration  \n",
       "184925         40.750599                   0       6.675823  "
      ]
     },
     "execution_count": 13,
     "metadata": {},
     "output_type": "execute_result"
    }
   ],
   "source": [
    "train[train.pickup_longitude < -90]\n",
    "train[train.pickup_latitude > 47]"
   ]
  },
  {
   "cell_type": "code",
   "execution_count": 14,
   "metadata": {},
   "outputs": [],
   "source": [
    "train = train[train.pickup_longitude > -90]\n",
    "train = train[train.pickup_latitude < 47]"
   ]
  },
  {
   "cell_type": "code",
   "execution_count": null,
   "metadata": {},
   "outputs": [],
   "source": [
    "plt.scatter(train.pickup_longitude, train.pickup_latitude)\n",
    "plt.xlabel('pickup_longitude')\n",
    "plt.ylabel('pickup_latitude')"
   ]
  },
  {
   "cell_type": "markdown",
   "metadata": {},
   "source": [
    "#### dropoff"
   ]
  },
  {
   "cell_type": "code",
   "execution_count": null,
   "metadata": {},
   "outputs": [],
   "source": [
    "plt.scatter(train.dropoff_longitude, train.dropoff_latitude)\n",
    "plt.xlabel('dropoff_longitude')\n",
    "plt.ylabel('dropoff_latitude')"
   ]
  },
  {
   "cell_type": "markdown",
   "metadata": {},
   "source": [
    "#### 위도 경도 변화 \n",
    "- 위도 경도 변화 없이 trip_duration 존재"
   ]
  },
  {
   "cell_type": "code",
   "execution_count": null,
   "metadata": {},
   "outputs": [],
   "source": [
    "train[(train.pickup_longitude == train.dropoff_longitude) & (train.pickup_latitude == train.dropoff_latitude)]"
   ]
  },
  {
   "cell_type": "code",
   "execution_count": 15,
   "metadata": {},
   "outputs": [
    {
     "data": {
      "text/plain": [
       "(1450129, 11)"
      ]
     },
     "execution_count": 15,
     "metadata": {},
     "output_type": "execute_result"
    }
   ],
   "source": [
    "idx = train[(train.pickup_longitude == train.dropoff_longitude) & (train.pickup_latitude == train.dropoff_latitude)].index\n",
    "train = train.drop(idx)\n",
    "train.shape"
   ]
  },
  {
   "cell_type": "code",
   "execution_count": null,
   "metadata": {},
   "outputs": [],
   "source": []
  },
  {
   "cell_type": "code",
   "execution_count": null,
   "metadata": {},
   "outputs": [],
   "source": []
  },
  {
   "cell_type": "markdown",
   "metadata": {},
   "source": [
    "### 거리 \n",
    " - haversine 함수로 구하면 시간 오래걸림"
   ]
  },
  {
   "cell_type": "code",
   "execution_count": 16,
   "metadata": {},
   "outputs": [],
   "source": [
    "#Function aiming at calculating distances from coordinates\n",
    "def ft_haversine_distance(lat1, lng1, lat2, lng2):\n",
    "    lat1, lng1, lat2, lng2 = map(np.radians, (lat1, lng1, lat2, lng2))\n",
    "    AVG_EARTH_RADIUS = 6371 #km\n",
    "    lat = lat2 - lat1\n",
    "    lng = lng2 - lng1\n",
    "    d = np.sin(lat * 0.5) ** 2 + np.cos(lat1) * np.cos(lat2) * np.sin(lng * 0.5) ** 2\n",
    "    h = 2 * AVG_EARTH_RADIUS * np.arcsin(np.sqrt(d))\n",
    "    return h\n",
    "\n",
    "train['distance'] = ft_haversine_distance(train['pickup_latitude'].values,\n",
    "                                                 train['pickup_longitude'].values, \n",
    "                                                 train['dropoff_latitude'].values,\n",
    "                                                 train['dropoff_longitude'].values)\n",
    "test['distance'] = ft_haversine_distance(test['pickup_latitude'].values, \n",
    "                                                test['pickup_longitude'].values, \n",
    "                                                test['dropoff_latitude'].values, \n",
    "                                                test['dropoff_longitude'].values)"
   ]
  },
  {
   "cell_type": "code",
   "execution_count": null,
   "metadata": {},
   "outputs": [],
   "source": [
    "pd.concat((train['distance'],test['distance'])).to_frame().boxplot()"
   ]
  },
  {
   "cell_type": "code",
   "execution_count": 17,
   "metadata": {},
   "outputs": [
    {
     "data": {
      "text/html": [
       "<div>\n",
       "<style scoped>\n",
       "    .dataframe tbody tr th:only-of-type {\n",
       "        vertical-align: middle;\n",
       "    }\n",
       "\n",
       "    .dataframe tbody tr th {\n",
       "        vertical-align: top;\n",
       "    }\n",
       "\n",
       "    .dataframe thead th {\n",
       "        text-align: right;\n",
       "    }\n",
       "</style>\n",
       "<table border=\"1\" class=\"dataframe\">\n",
       "  <thead>\n",
       "    <tr style=\"text-align: right;\">\n",
       "      <th></th>\n",
       "      <th>id</th>\n",
       "      <th>vendor_id</th>\n",
       "      <th>pickup_datetime</th>\n",
       "      <th>dropoff_datetime</th>\n",
       "      <th>passenger_count</th>\n",
       "      <th>pickup_longitude</th>\n",
       "      <th>pickup_latitude</th>\n",
       "      <th>dropoff_longitude</th>\n",
       "      <th>dropoff_latitude</th>\n",
       "      <th>store_and_fwd_flag</th>\n",
       "      <th>trip_duration</th>\n",
       "      <th>distance</th>\n",
       "    </tr>\n",
       "  </thead>\n",
       "  <tbody>\n",
       "    <tr>\n",
       "      <th>974378</th>\n",
       "      <td>id1510552</td>\n",
       "      <td>2</td>\n",
       "      <td>2016-01-06 20:40:52</td>\n",
       "      <td>2016-01-06 20:51:03</td>\n",
       "      <td>5</td>\n",
       "      <td>-71.799896</td>\n",
       "      <td>35.081532</td>\n",
       "      <td>-79.352837</td>\n",
       "      <td>40.436329</td>\n",
       "      <td>0</td>\n",
       "      <td>6.416732</td>\n",
       "      <td>891.214103</td>\n",
       "    </tr>\n",
       "  </tbody>\n",
       "</table>\n",
       "</div>"
      ],
      "text/plain": [
       "               id  vendor_id     pickup_datetime    dropoff_datetime  \\\n",
       "974378  id1510552          2 2016-01-06 20:40:52 2016-01-06 20:51:03   \n",
       "\n",
       "        passenger_count  pickup_longitude  pickup_latitude  dropoff_longitude  \\\n",
       "974378                5        -71.799896        35.081532         -79.352837   \n",
       "\n",
       "        dropoff_latitude  store_and_fwd_flag  trip_duration    distance  \n",
       "974378         40.436329                   0       6.416732  891.214103  "
      ]
     },
     "execution_count": 17,
     "metadata": {},
     "output_type": "execute_result"
    },
    {
     "data": {
      "text/html": [
       "<div>\n",
       "<style scoped>\n",
       "    .dataframe tbody tr th:only-of-type {\n",
       "        vertical-align: middle;\n",
       "    }\n",
       "\n",
       "    .dataframe tbody tr th {\n",
       "        vertical-align: top;\n",
       "    }\n",
       "\n",
       "    .dataframe thead th {\n",
       "        text-align: right;\n",
       "    }\n",
       "</style>\n",
       "<table border=\"1\" class=\"dataframe\">\n",
       "  <thead>\n",
       "    <tr style=\"text-align: right;\">\n",
       "      <th></th>\n",
       "      <th>id</th>\n",
       "      <th>vendor_id</th>\n",
       "      <th>pickup_datetime</th>\n",
       "      <th>dropoff_datetime</th>\n",
       "      <th>passenger_count</th>\n",
       "      <th>pickup_longitude</th>\n",
       "      <th>pickup_latitude</th>\n",
       "      <th>dropoff_longitude</th>\n",
       "      <th>dropoff_latitude</th>\n",
       "      <th>store_and_fwd_flag</th>\n",
       "      <th>trip_duration</th>\n",
       "      <th>distance</th>\n",
       "    </tr>\n",
       "  </thead>\n",
       "  <tbody>\n",
       "    <tr>\n",
       "      <th>397526</th>\n",
       "      <td>id0982904</td>\n",
       "      <td>1</td>\n",
       "      <td>2016-04-28 13:32:14</td>\n",
       "      <td>2016-04-28 14:14:09</td>\n",
       "      <td>2</td>\n",
       "      <td>-73.870682</td>\n",
       "      <td>40.773598</td>\n",
       "      <td>-79.817978</td>\n",
       "      <td>38.963852</td>\n",
       "      <td>0</td>\n",
       "      <td>7.830426</td>\n",
       "      <td>545.853499</td>\n",
       "    </tr>\n",
       "    <tr>\n",
       "      <th>910072</th>\n",
       "      <td>id1146400</td>\n",
       "      <td>1</td>\n",
       "      <td>2016-02-15 18:57:32</td>\n",
       "      <td>2016-02-15 19:02:35</td>\n",
       "      <td>2</td>\n",
       "      <td>-73.989914</td>\n",
       "      <td>40.756634</td>\n",
       "      <td>-70.346077</td>\n",
       "      <td>36.398121</td>\n",
       "      <td>0</td>\n",
       "      <td>5.717028</td>\n",
       "      <td>578.842818</td>\n",
       "    </tr>\n",
       "    <tr>\n",
       "      <th>923793</th>\n",
       "      <td>id1001696</td>\n",
       "      <td>1</td>\n",
       "      <td>2016-02-24 21:02:32</td>\n",
       "      <td>2016-02-24 21:25:57</td>\n",
       "      <td>1</td>\n",
       "      <td>-73.972366</td>\n",
       "      <td>40.758633</td>\n",
       "      <td>-79.553535</td>\n",
       "      <td>43.674000</td>\n",
       "      <td>0</td>\n",
       "      <td>7.248504</td>\n",
       "      <td>562.235188</td>\n",
       "    </tr>\n",
       "    <tr>\n",
       "      <th>974378</th>\n",
       "      <td>id1510552</td>\n",
       "      <td>2</td>\n",
       "      <td>2016-01-06 20:40:52</td>\n",
       "      <td>2016-01-06 20:51:03</td>\n",
       "      <td>5</td>\n",
       "      <td>-71.799896</td>\n",
       "      <td>35.081532</td>\n",
       "      <td>-79.352837</td>\n",
       "      <td>40.436329</td>\n",
       "      <td>0</td>\n",
       "      <td>6.416732</td>\n",
       "      <td>891.214103</td>\n",
       "    </tr>\n",
       "    <tr>\n",
       "      <th>1013474</th>\n",
       "      <td>id3626673</td>\n",
       "      <td>1</td>\n",
       "      <td>2016-05-05 18:02:50</td>\n",
       "      <td>2016-05-05 18:18:23</td>\n",
       "      <td>1</td>\n",
       "      <td>-73.978912</td>\n",
       "      <td>40.756763</td>\n",
       "      <td>-79.338699</td>\n",
       "      <td>41.427902</td>\n",
       "      <td>0</td>\n",
       "      <td>6.839476</td>\n",
       "      <td>455.241204</td>\n",
       "    </tr>\n",
       "    <tr>\n",
       "      <th>1100676</th>\n",
       "      <td>id2644780</td>\n",
       "      <td>1</td>\n",
       "      <td>2016-05-03 16:24:07</td>\n",
       "      <td>2016-05-03 17:18:34</td>\n",
       "      <td>2</td>\n",
       "      <td>-73.991325</td>\n",
       "      <td>40.750023</td>\n",
       "      <td>-79.518616</td>\n",
       "      <td>43.921028</td>\n",
       "      <td>0</td>\n",
       "      <td>8.091933</td>\n",
       "      <td>574.875442</td>\n",
       "    </tr>\n",
       "  </tbody>\n",
       "</table>\n",
       "</div>"
      ],
      "text/plain": [
       "                id  vendor_id     pickup_datetime    dropoff_datetime  \\\n",
       "397526   id0982904          1 2016-04-28 13:32:14 2016-04-28 14:14:09   \n",
       "910072   id1146400          1 2016-02-15 18:57:32 2016-02-15 19:02:35   \n",
       "923793   id1001696          1 2016-02-24 21:02:32 2016-02-24 21:25:57   \n",
       "974378   id1510552          2 2016-01-06 20:40:52 2016-01-06 20:51:03   \n",
       "1013474  id3626673          1 2016-05-05 18:02:50 2016-05-05 18:18:23   \n",
       "1100676  id2644780          1 2016-05-03 16:24:07 2016-05-03 17:18:34   \n",
       "\n",
       "         passenger_count  pickup_longitude  pickup_latitude  \\\n",
       "397526                 2        -73.870682        40.773598   \n",
       "910072                 2        -73.989914        40.756634   \n",
       "923793                 1        -73.972366        40.758633   \n",
       "974378                 5        -71.799896        35.081532   \n",
       "1013474                1        -73.978912        40.756763   \n",
       "1100676                2        -73.991325        40.750023   \n",
       "\n",
       "         dropoff_longitude  dropoff_latitude  store_and_fwd_flag  \\\n",
       "397526          -79.817978         38.963852                   0   \n",
       "910072          -70.346077         36.398121                   0   \n",
       "923793          -79.553535         43.674000                   0   \n",
       "974378          -79.352837         40.436329                   0   \n",
       "1013474         -79.338699         41.427902                   0   \n",
       "1100676         -79.518616         43.921028                   0   \n",
       "\n",
       "         trip_duration    distance  \n",
       "397526        7.830426  545.853499  \n",
       "910072        5.717028  578.842818  \n",
       "923793        7.248504  562.235188  \n",
       "974378        6.416732  891.214103  \n",
       "1013474       6.839476  455.241204  \n",
       "1100676       8.091933  574.875442  "
      ]
     },
     "execution_count": 17,
     "metadata": {},
     "output_type": "execute_result"
    }
   ],
   "source": [
    "train[train['distance'] > 600]\n",
    "train[train['distance'] > 400]\n",
    "\n",
    "train = train[train['distance'] < 400]"
   ]
  },
  {
   "cell_type": "code",
   "execution_count": 18,
   "metadata": {},
   "outputs": [
    {
     "data": {
      "text/plain": [
       "<matplotlib.axes._subplots.AxesSubplot at 0x263af51f2c8>"
      ]
     },
     "execution_count": 18,
     "metadata": {},
     "output_type": "execute_result"
    },
    {
     "data": {
      "image/png": "[encoded data removed]",
      "text/plain": [
       "<Figure size 432x288 with 1 Axes>"
      ]
     },
     "metadata": {
      "needs_background": "light"
     },
     "output_type": "display_data"
    }
   ],
   "source": [
    "train.distance.to_frame().boxplot()"
   ]
  },
  {
   "cell_type": "code",
   "execution_count": 19,
   "metadata": {},
   "outputs": [
    {
     "data": {
      "text/html": [
       "<div>\n",
       "<style scoped>\n",
       "    .dataframe tbody tr th:only-of-type {\n",
       "        vertical-align: middle;\n",
       "    }\n",
       "\n",
       "    .dataframe tbody tr th {\n",
       "        vertical-align: top;\n",
       "    }\n",
       "\n",
       "    .dataframe thead th {\n",
       "        text-align: right;\n",
       "    }\n",
       "</style>\n",
       "<table border=\"1\" class=\"dataframe\">\n",
       "  <thead>\n",
       "    <tr style=\"text-align: right;\">\n",
       "      <th></th>\n",
       "      <th>id</th>\n",
       "      <th>vendor_id</th>\n",
       "      <th>pickup_datetime</th>\n",
       "      <th>dropoff_datetime</th>\n",
       "      <th>passenger_count</th>\n",
       "      <th>pickup_longitude</th>\n",
       "      <th>pickup_latitude</th>\n",
       "      <th>dropoff_longitude</th>\n",
       "      <th>dropoff_latitude</th>\n",
       "      <th>store_and_fwd_flag</th>\n",
       "      <th>trip_duration</th>\n",
       "      <th>distance</th>\n",
       "    </tr>\n",
       "  </thead>\n",
       "  <tbody>\n",
       "    <tr>\n",
       "      <th>275644</th>\n",
       "      <td>id0978162</td>\n",
       "      <td>1</td>\n",
       "      <td>2016-02-24 16:20:59</td>\n",
       "      <td>2016-02-24 16:35:34</td>\n",
       "      <td>4</td>\n",
       "      <td>-75.354332</td>\n",
       "      <td>34.712234</td>\n",
       "      <td>-73.834923</td>\n",
       "      <td>32.181141</td>\n",
       "      <td>0</td>\n",
       "      <td>6.775366</td>\n",
       "      <td>314.764203</td>\n",
       "    </tr>\n",
       "    <tr>\n",
       "      <th>377068</th>\n",
       "      <td>id0116374</td>\n",
       "      <td>1</td>\n",
       "      <td>2016-04-02 20:33:19</td>\n",
       "      <td>2016-04-02 20:38:01</td>\n",
       "      <td>1</td>\n",
       "      <td>-74.007095</td>\n",
       "      <td>40.717113</td>\n",
       "      <td>-76.963242</td>\n",
       "      <td>38.946033</td>\n",
       "      <td>0</td>\n",
       "      <td>5.645447</td>\n",
       "      <td>320.125775</td>\n",
       "    </tr>\n",
       "    <tr>\n",
       "      <th>644165</th>\n",
       "      <td>id0401529</td>\n",
       "      <td>2</td>\n",
       "      <td>2016-06-02 15:19:35</td>\n",
       "      <td>2016-06-02 15:32:59</td>\n",
       "      <td>1</td>\n",
       "      <td>-73.980751</td>\n",
       "      <td>40.757111</td>\n",
       "      <td>-74.240051</td>\n",
       "      <td>38.478298</td>\n",
       "      <td>0</td>\n",
       "      <td>6.690842</td>\n",
       "      <td>254.363523</td>\n",
       "    </tr>\n",
       "    <tr>\n",
       "      <th>1060807</th>\n",
       "      <td>id0838705</td>\n",
       "      <td>1</td>\n",
       "      <td>2016-02-26 19:50:03</td>\n",
       "      <td>2016-02-26 20:08:54</td>\n",
       "      <td>1</td>\n",
       "      <td>-66.972160</td>\n",
       "      <td>44.371944</td>\n",
       "      <td>-69.048019</td>\n",
       "      <td>43.147583</td>\n",
       "      <td>0</td>\n",
       "      <td>7.031741</td>\n",
       "      <td>215.226573</td>\n",
       "    </tr>\n",
       "  </tbody>\n",
       "</table>\n",
       "</div>"
      ],
      "text/plain": [
       "                id  vendor_id     pickup_datetime    dropoff_datetime  \\\n",
       "275644   id0978162          1 2016-02-24 16:20:59 2016-02-24 16:35:34   \n",
       "377068   id0116374          1 2016-04-02 20:33:19 2016-04-02 20:38:01   \n",
       "644165   id0401529          2 2016-06-02 15:19:35 2016-06-02 15:32:59   \n",
       "1060807  id0838705          1 2016-02-26 19:50:03 2016-02-26 20:08:54   \n",
       "\n",
       "         passenger_count  pickup_longitude  pickup_latitude  \\\n",
       "275644                 4        -75.354332        34.712234   \n",
       "377068                 1        -74.007095        40.717113   \n",
       "644165                 1        -73.980751        40.757111   \n",
       "1060807                1        -66.972160        44.371944   \n",
       "\n",
       "         dropoff_longitude  dropoff_latitude  store_and_fwd_flag  \\\n",
       "275644          -73.834923         32.181141                   0   \n",
       "377068          -76.963242         38.946033                   0   \n",
       "644165          -74.240051         38.478298                   0   \n",
       "1060807         -69.048019         43.147583                   0   \n",
       "\n",
       "         trip_duration    distance  \n",
       "275644        6.775366  314.764203  \n",
       "377068        5.645447  320.125775  \n",
       "644165        6.690842  254.363523  \n",
       "1060807       7.031741  215.226573  "
      ]
     },
     "execution_count": 19,
     "metadata": {},
     "output_type": "execute_result"
    },
    {
     "data": {
      "text/html": [
       "<div>\n",
       "<style scoped>\n",
       "    .dataframe tbody tr th:only-of-type {\n",
       "        vertical-align: middle;\n",
       "    }\n",
       "\n",
       "    .dataframe tbody tr th {\n",
       "        vertical-align: top;\n",
       "    }\n",
       "\n",
       "    .dataframe thead th {\n",
       "        text-align: right;\n",
       "    }\n",
       "</style>\n",
       "<table border=\"1\" class=\"dataframe\">\n",
       "  <thead>\n",
       "    <tr style=\"text-align: right;\">\n",
       "      <th></th>\n",
       "      <th>id</th>\n",
       "      <th>vendor_id</th>\n",
       "      <th>pickup_datetime</th>\n",
       "      <th>dropoff_datetime</th>\n",
       "      <th>passenger_count</th>\n",
       "      <th>pickup_longitude</th>\n",
       "      <th>pickup_latitude</th>\n",
       "      <th>dropoff_longitude</th>\n",
       "      <th>dropoff_latitude</th>\n",
       "      <th>store_and_fwd_flag</th>\n",
       "      <th>trip_duration</th>\n",
       "      <th>distance</th>\n",
       "    </tr>\n",
       "  </thead>\n",
       "  <tbody>\n",
       "    <tr>\n",
       "      <th>978647</th>\n",
       "      <td>id0687776</td>\n",
       "      <td>2</td>\n",
       "      <td>2016-04-28 20:22:43</td>\n",
       "      <td>2016-04-28 22:01:25</td>\n",
       "      <td>1</td>\n",
       "      <td>-73.991928</td>\n",
       "      <td>40.751034</td>\n",
       "      <td>-72.912292</td>\n",
       "      <td>41.388992</td>\n",
       "      <td>0</td>\n",
       "      <td>8.686598</td>\n",
       "      <td>114.992275</td>\n",
       "    </tr>\n",
       "    <tr>\n",
       "      <th>283102</th>\n",
       "      <td>id2778014</td>\n",
       "      <td>2</td>\n",
       "      <td>2016-01-17 16:43:09</td>\n",
       "      <td>2016-01-17 16:50:16</td>\n",
       "      <td>1</td>\n",
       "      <td>-73.997086</td>\n",
       "      <td>40.728924</td>\n",
       "      <td>-72.671150</td>\n",
       "      <td>40.614220</td>\n",
       "      <td>0</td>\n",
       "      <td>6.059123</td>\n",
       "      <td>112.548872</td>\n",
       "    </tr>\n",
       "    <tr>\n",
       "      <th>595540</th>\n",
       "      <td>id1723416</td>\n",
       "      <td>1</td>\n",
       "      <td>2016-03-20 21:07:56</td>\n",
       "      <td>2016-03-20 21:12:35</td>\n",
       "      <td>1</td>\n",
       "      <td>-78.547401</td>\n",
       "      <td>40.817131</td>\n",
       "      <td>-79.786133</td>\n",
       "      <td>40.917637</td>\n",
       "      <td>0</td>\n",
       "      <td>5.634790</td>\n",
       "      <td>104.759971</td>\n",
       "    </tr>\n",
       "    <tr>\n",
       "      <th>512980</th>\n",
       "      <td>id2066082</td>\n",
       "      <td>1</td>\n",
       "      <td>2016-01-25 23:53:17</td>\n",
       "      <td>2016-01-26 01:25:46</td>\n",
       "      <td>1</td>\n",
       "      <td>-73.877716</td>\n",
       "      <td>40.772167</td>\n",
       "      <td>-72.905891</td>\n",
       "      <td>41.319832</td>\n",
       "      <td>0</td>\n",
       "      <td>8.621553</td>\n",
       "      <td>101.736296</td>\n",
       "    </tr>\n",
       "    <tr>\n",
       "      <th>823541</th>\n",
       "      <td>id1720250</td>\n",
       "      <td>2</td>\n",
       "      <td>2016-04-28 07:40:00</td>\n",
       "      <td>2016-04-28 08:54:28</td>\n",
       "      <td>1</td>\n",
       "      <td>-73.863960</td>\n",
       "      <td>40.769855</td>\n",
       "      <td>-72.720734</td>\n",
       "      <td>40.919106</td>\n",
       "      <td>0</td>\n",
       "      <td>8.404920</td>\n",
       "      <td>97.586212</td>\n",
       "    </tr>\n",
       "    <tr>\n",
       "      <th>...</th>\n",
       "      <td>...</td>\n",
       "      <td>...</td>\n",
       "      <td>...</td>\n",
       "      <td>...</td>\n",
       "      <td>...</td>\n",
       "      <td>...</td>\n",
       "      <td>...</td>\n",
       "      <td>...</td>\n",
       "      <td>...</td>\n",
       "      <td>...</td>\n",
       "      <td>...</td>\n",
       "      <td>...</td>\n",
       "    </tr>\n",
       "    <tr>\n",
       "      <th>1430706</th>\n",
       "      <td>id2556580</td>\n",
       "      <td>1</td>\n",
       "      <td>2016-05-10 17:13:32</td>\n",
       "      <td>2016-05-10 17:13:49</td>\n",
       "      <td>3</td>\n",
       "      <td>-73.995499</td>\n",
       "      <td>40.761387</td>\n",
       "      <td>-73.995499</td>\n",
       "      <td>40.761383</td>\n",
       "      <td>0</td>\n",
       "      <td>2.890372</td>\n",
       "      <td>0.000424</td>\n",
       "    </tr>\n",
       "    <tr>\n",
       "      <th>20077</th>\n",
       "      <td>id3733479</td>\n",
       "      <td>2</td>\n",
       "      <td>2016-05-22 03:58:40</td>\n",
       "      <td>2016-05-22 03:59:02</td>\n",
       "      <td>1</td>\n",
       "      <td>-74.347069</td>\n",
       "      <td>40.708519</td>\n",
       "      <td>-74.347069</td>\n",
       "      <td>40.708523</td>\n",
       "      <td>0</td>\n",
       "      <td>3.135494</td>\n",
       "      <td>0.000424</td>\n",
       "    </tr>\n",
       "    <tr>\n",
       "      <th>97396</th>\n",
       "      <td>id3748083</td>\n",
       "      <td>1</td>\n",
       "      <td>2016-01-28 22:39:27</td>\n",
       "      <td>2016-01-28 22:41:16</td>\n",
       "      <td>1</td>\n",
       "      <td>-73.986938</td>\n",
       "      <td>40.761074</td>\n",
       "      <td>-73.986938</td>\n",
       "      <td>40.761070</td>\n",
       "      <td>0</td>\n",
       "      <td>4.700480</td>\n",
       "      <td>0.000424</td>\n",
       "    </tr>\n",
       "    <tr>\n",
       "      <th>1060344</th>\n",
       "      <td>id0396704</td>\n",
       "      <td>1</td>\n",
       "      <td>2016-04-01 07:27:51</td>\n",
       "      <td>2016-04-01 07:28:33</td>\n",
       "      <td>3</td>\n",
       "      <td>-74.022278</td>\n",
       "      <td>40.759789</td>\n",
       "      <td>-74.022278</td>\n",
       "      <td>40.759792</td>\n",
       "      <td>0</td>\n",
       "      <td>3.761200</td>\n",
       "      <td>0.000424</td>\n",
       "    </tr>\n",
       "    <tr>\n",
       "      <th>943942</th>\n",
       "      <td>id0785878</td>\n",
       "      <td>1</td>\n",
       "      <td>2016-01-03 22:29:47</td>\n",
       "      <td>2016-01-03 22:30:40</td>\n",
       "      <td>1</td>\n",
       "      <td>-74.081451</td>\n",
       "      <td>40.763004</td>\n",
       "      <td>-74.081451</td>\n",
       "      <td>40.763008</td>\n",
       "      <td>0</td>\n",
       "      <td>3.988984</td>\n",
       "      <td>0.000424</td>\n",
       "    </tr>\n",
       "  </tbody>\n",
       "</table>\n",
       "<p>1450119 rows × 12 columns</p>\n",
       "</div>"
      ],
      "text/plain": [
       "                id  vendor_id     pickup_datetime    dropoff_datetime  \\\n",
       "978647   id0687776          2 2016-04-28 20:22:43 2016-04-28 22:01:25   \n",
       "283102   id2778014          2 2016-01-17 16:43:09 2016-01-17 16:50:16   \n",
       "595540   id1723416          1 2016-03-20 21:07:56 2016-03-20 21:12:35   \n",
       "512980   id2066082          1 2016-01-25 23:53:17 2016-01-26 01:25:46   \n",
       "823541   id1720250          2 2016-04-28 07:40:00 2016-04-28 08:54:28   \n",
       "...            ...        ...                 ...                 ...   \n",
       "1430706  id2556580          1 2016-05-10 17:13:32 2016-05-10 17:13:49   \n",
       "20077    id3733479          2 2016-05-22 03:58:40 2016-05-22 03:59:02   \n",
       "97396    id3748083          1 2016-01-28 22:39:27 2016-01-28 22:41:16   \n",
       "1060344  id0396704          1 2016-04-01 07:27:51 2016-04-01 07:28:33   \n",
       "943942   id0785878          1 2016-01-03 22:29:47 2016-01-03 22:30:40   \n",
       "\n",
       "         passenger_count  pickup_longitude  pickup_latitude  \\\n",
       "978647                 1        -73.991928        40.751034   \n",
       "283102                 1        -73.997086        40.728924   \n",
       "595540                 1        -78.547401        40.817131   \n",
       "512980                 1        -73.877716        40.772167   \n",
       "823541                 1        -73.863960        40.769855   \n",
       "...                  ...               ...              ...   \n",
       "1430706                3        -73.995499        40.761387   \n",
       "20077                  1        -74.347069        40.708519   \n",
       "97396                  1        -73.986938        40.761074   \n",
       "1060344                3        -74.022278        40.759789   \n",
       "943942                 1        -74.081451        40.763004   \n",
       "\n",
       "         dropoff_longitude  dropoff_latitude  store_and_fwd_flag  \\\n",
       "978647          -72.912292         41.388992                   0   \n",
       "283102          -72.671150         40.614220                   0   \n",
       "595540          -79.786133         40.917637                   0   \n",
       "512980          -72.905891         41.319832                   0   \n",
       "823541          -72.720734         40.919106                   0   \n",
       "...                    ...               ...                 ...   \n",
       "1430706         -73.995499         40.761383                   0   \n",
       "20077           -74.347069         40.708523                   0   \n",
       "97396           -73.986938         40.761070                   0   \n",
       "1060344         -74.022278         40.759792                   0   \n",
       "943942          -74.081451         40.763008                   0   \n",
       "\n",
       "         trip_duration    distance  \n",
       "978647        8.686598  114.992275  \n",
       "283102        6.059123  112.548872  \n",
       "595540        5.634790  104.759971  \n",
       "512980        8.621553  101.736296  \n",
       "823541        8.404920   97.586212  \n",
       "...                ...         ...  \n",
       "1430706       2.890372    0.000424  \n",
       "20077         3.135494    0.000424  \n",
       "97396         4.700480    0.000424  \n",
       "1060344       3.761200    0.000424  \n",
       "943942        3.988984    0.000424  \n",
       "\n",
       "[1450119 rows x 12 columns]"
      ]
     },
     "execution_count": 19,
     "metadata": {},
     "output_type": "execute_result"
    }
   ],
   "source": [
    "train[train['distance'] > 150]\n",
    "train[train['distance'] < 150].sort_values(by='distance', ascending=False)\n",
    "\n",
    "train = train[train['distance'] < 150]"
   ]
  },
  {
   "cell_type": "code",
   "execution_count": 20,
   "metadata": {},
   "outputs": [
    {
     "data": {
      "text/plain": [
       "<matplotlib.axes._subplots.AxesSubplot at 0x263acdd0b08>"
      ]
     },
     "execution_count": 20,
     "metadata": {},
     "output_type": "execute_result"
    },
    {
     "data": {
      "image/png": "[encoded data removed]",
      "text/plain": [
       "<Figure size 432x288 with 1 Axes>"
      ]
     },
     "metadata": {
      "needs_background": "light"
     },
     "output_type": "display_data"
    }
   ],
   "source": [
    "train.distance.to_frame().boxplot()"
   ]
  },
  {
   "cell_type": "code",
   "execution_count": 21,
   "metadata": {},
   "outputs": [
    {
     "data": {
      "text/plain": [
       "<matplotlib.axes._subplots.AxesSubplot at 0x263ace00ec8>"
      ]
     },
     "execution_count": 21,
     "metadata": {},
     "output_type": "execute_result"
    },
    {
     "data": {
      "image/png": "[encoded data removed]",
      "text/plain": [
       "<Figure size 432x288 with 1 Axes>"
      ]
     },
     "metadata": {
      "needs_background": "light"
     },
     "output_type": "display_data"
    }
   ],
   "source": [
    "train['distance'].hist(bins=1000)"
   ]
  },
  {
   "cell_type": "code",
   "execution_count": null,
   "metadata": {},
   "outputs": [],
   "source": []
  },
  {
   "cell_type": "code",
   "execution_count": 22,
   "metadata": {},
   "outputs": [
    {
     "data": {
      "text/plain": [
       "<matplotlib.axes._subplots.AxesSubplot at 0x263b1ff1fc8>"
      ]
     },
     "execution_count": 22,
     "metadata": {},
     "output_type": "execute_result"
    },
    {
     "data": {
      "image/png": "[encoded data removed]",
      "text/plain": [
       "<Figure size 432x288 with 1 Axes>"
      ]
     },
     "metadata": {
      "needs_background": "light"
     },
     "output_type": "display_data"
    }
   ],
   "source": [
    "cond = (train.distance > 15) & (train.distance < 30)\n",
    "train[cond]['distance'].hist(bins=1000)"
   ]
  },
  {
   "cell_type": "code",
   "execution_count": 23,
   "metadata": {},
   "outputs": [],
   "source": [
    "train = train[train['distance'] < 30]"
   ]
  },
  {
   "cell_type": "code",
   "execution_count": 24,
   "metadata": {},
   "outputs": [
    {
     "data": {
      "text/plain": [
       "<matplotlib.axes._subplots.AxesSubplot at 0x263ace04cc8>"
      ]
     },
     "execution_count": 24,
     "metadata": {},
     "output_type": "execute_result"
    },
    {
     "data": {
      "image/png": "[encoded data removed]",
      "text/plain": [
       "<Figure size 432x288 with 1 Axes>"
      ]
     },
     "metadata": {
      "needs_background": "light"
     },
     "output_type": "display_data"
    }
   ],
   "source": [
    "train['distance'].hist(bins=1000)"
   ]
  },
  {
   "cell_type": "code",
   "execution_count": 25,
   "metadata": {},
   "outputs": [
    {
     "data": {
      "text/plain": [
       "<matplotlib.axes._subplots.AxesSubplot at 0x263b6327b88>"
      ]
     },
     "execution_count": 25,
     "metadata": {},
     "output_type": "execute_result"
    },
    {
     "data": {
      "image/png": "[encoded data removed]",
      "text/plain": [
       "<Figure size 432x288 with 1 Axes>"
      ]
     },
     "metadata": {
      "needs_background": "light"
     },
     "output_type": "display_data"
    }
   ],
   "source": [
    "np.log1p(train['distance']).hist(bins=1000)\n",
    "train['distance'] = np.log1p(train['distance'])\n",
    "test['distance'] = np.log1p(test['distance'])"
   ]
  },
  {
   "cell_type": "code",
   "execution_count": null,
   "metadata": {},
   "outputs": [],
   "source": []
  },
  {
   "cell_type": "code",
   "execution_count": 26,
   "metadata": {},
   "outputs": [],
   "source": [
    "def ft_degree(lat1, lng1, lat2, lng2):\n",
    "    AVG_EARTH_RADIUS = 6371 #km\n",
    "    lng_delta_rad = np.radians(lng2 - lng1)\n",
    "    lat1, lng1, lat2, lng2 = map(np.radians, (lat1, lng1, lat2, lng2))\n",
    "    y = np.sin(lng_delta_rad) * np.cos(lat2)\n",
    "    x = np.cos(lat1) * np.sin(lat2) - np.sin(lat1) * np.cos(lat2) * np.cos(lng_delta_rad)\n",
    "    return np.degrees(np.arctan2(y, x))\n",
    "\n",
    "#Add direction feature\n",
    "train['direction'] = ft_degree(train['pickup_latitude'].values,\n",
    "                                train['pickup_longitude'].values,\n",
    "                                train['dropoff_latitude'].values,\n",
    "                                train['dropoff_longitude'].values)\n",
    "test['direction'] = ft_degree(test['pickup_latitude'].values,\n",
    "                                  test['pickup_longitude'].values, \n",
    "                                  test['dropoff_latitude'].values,\n",
    "                                  test['dropoff_longitude'].values)"
   ]
  },
  {
   "cell_type": "code",
   "execution_count": null,
   "metadata": {},
   "outputs": [],
   "source": []
  },
  {
   "cell_type": "code",
   "execution_count": null,
   "metadata": {},
   "outputs": [],
   "source": []
  },
  {
   "cell_type": "code",
   "execution_count": null,
   "metadata": {},
   "outputs": [],
   "source": []
  },
  {
   "cell_type": "markdown",
   "metadata": {},
   "source": [
    "### 속도"
   ]
  },
  {
   "cell_type": "code",
   "execution_count": 27,
   "metadata": {},
   "outputs": [
    {
     "data": {
      "text/html": [
       "<div>\n",
       "<style scoped>\n",
       "    .dataframe tbody tr th:only-of-type {\n",
       "        vertical-align: middle;\n",
       "    }\n",
       "\n",
       "    .dataframe tbody tr th {\n",
       "        vertical-align: top;\n",
       "    }\n",
       "\n",
       "    .dataframe thead th {\n",
       "        text-align: right;\n",
       "    }\n",
       "</style>\n",
       "<table border=\"1\" class=\"dataframe\">\n",
       "  <thead>\n",
       "    <tr style=\"text-align: right;\">\n",
       "      <th></th>\n",
       "      <th>id</th>\n",
       "      <th>vendor_id</th>\n",
       "      <th>pickup_datetime</th>\n",
       "      <th>dropoff_datetime</th>\n",
       "      <th>passenger_count</th>\n",
       "      <th>pickup_longitude</th>\n",
       "      <th>pickup_latitude</th>\n",
       "      <th>dropoff_longitude</th>\n",
       "      <th>dropoff_latitude</th>\n",
       "      <th>store_and_fwd_flag</th>\n",
       "      <th>trip_duration</th>\n",
       "      <th>distance</th>\n",
       "      <th>direction</th>\n",
       "      <th>speed</th>\n",
       "    </tr>\n",
       "  </thead>\n",
       "  <tbody>\n",
       "    <tr>\n",
       "      <th>0</th>\n",
       "      <td>id2875421</td>\n",
       "      <td>2</td>\n",
       "      <td>2016-03-14 17:24:55</td>\n",
       "      <td>2016-03-14 17:32:30</td>\n",
       "      <td>1</td>\n",
       "      <td>-73.982155</td>\n",
       "      <td>40.767937</td>\n",
       "      <td>-73.964630</td>\n",
       "      <td>40.765602</td>\n",
       "      <td>0</td>\n",
       "      <td>6.122493</td>\n",
       "      <td>0.915699</td>\n",
       "      <td>99.970196</td>\n",
       "      <td>0.149563</td>\n",
       "    </tr>\n",
       "    <tr>\n",
       "      <th>1</th>\n",
       "      <td>id2377394</td>\n",
       "      <td>1</td>\n",
       "      <td>2016-06-12 00:43:35</td>\n",
       "      <td>2016-06-12 00:54:38</td>\n",
       "      <td>1</td>\n",
       "      <td>-73.980415</td>\n",
       "      <td>40.738564</td>\n",
       "      <td>-73.999481</td>\n",
       "      <td>40.731152</td>\n",
       "      <td>0</td>\n",
       "      <td>6.498282</td>\n",
       "      <td>1.031584</td>\n",
       "      <td>-117.153768</td>\n",
       "      <td>0.158747</td>\n",
       "    </tr>\n",
       "    <tr>\n",
       "      <th>2</th>\n",
       "      <td>id3858529</td>\n",
       "      <td>2</td>\n",
       "      <td>2016-01-19 11:35:24</td>\n",
       "      <td>2016-01-19 12:10:48</td>\n",
       "      <td>1</td>\n",
       "      <td>-73.979027</td>\n",
       "      <td>40.763939</td>\n",
       "      <td>-74.005333</td>\n",
       "      <td>40.710087</td>\n",
       "      <td>0</td>\n",
       "      <td>7.661527</td>\n",
       "      <td>1.999464</td>\n",
       "      <td>-159.680165</td>\n",
       "      <td>0.260975</td>\n",
       "    </tr>\n",
       "    <tr>\n",
       "      <th>3</th>\n",
       "      <td>id3504673</td>\n",
       "      <td>2</td>\n",
       "      <td>2016-04-06 19:32:31</td>\n",
       "      <td>2016-04-06 19:39:40</td>\n",
       "      <td>1</td>\n",
       "      <td>-74.010040</td>\n",
       "      <td>40.719971</td>\n",
       "      <td>-74.012268</td>\n",
       "      <td>40.706718</td>\n",
       "      <td>0</td>\n",
       "      <td>6.063785</td>\n",
       "      <td>0.910473</td>\n",
       "      <td>-172.737700</td>\n",
       "      <td>0.150149</td>\n",
       "    </tr>\n",
       "    <tr>\n",
       "      <th>4</th>\n",
       "      <td>id2181028</td>\n",
       "      <td>2</td>\n",
       "      <td>2016-03-26 13:30:55</td>\n",
       "      <td>2016-03-26 13:38:10</td>\n",
       "      <td>1</td>\n",
       "      <td>-73.973053</td>\n",
       "      <td>40.793209</td>\n",
       "      <td>-73.972923</td>\n",
       "      <td>40.782520</td>\n",
       "      <td>0</td>\n",
       "      <td>6.077642</td>\n",
       "      <td>0.783257</td>\n",
       "      <td>179.473585</td>\n",
       "      <td>0.128875</td>\n",
       "    </tr>\n",
       "  </tbody>\n",
       "</table>\n",
       "</div>"
      ],
      "text/plain": [
       "          id  vendor_id     pickup_datetime    dropoff_datetime  \\\n",
       "0  id2875421          2 2016-03-14 17:24:55 2016-03-14 17:32:30   \n",
       "1  id2377394          1 2016-06-12 00:43:35 2016-06-12 00:54:38   \n",
       "2  id3858529          2 2016-01-19 11:35:24 2016-01-19 12:10:48   \n",
       "3  id3504673          2 2016-04-06 19:32:31 2016-04-06 19:39:40   \n",
       "4  id2181028          2 2016-03-26 13:30:55 2016-03-26 13:38:10   \n",
       "\n",
       "   passenger_count  pickup_longitude  pickup_latitude  dropoff_longitude  \\\n",
       "0                1        -73.982155        40.767937         -73.964630   \n",
       "1                1        -73.980415        40.738564         -73.999481   \n",
       "2                1        -73.979027        40.763939         -74.005333   \n",
       "3                1        -74.010040        40.719971         -74.012268   \n",
       "4                1        -73.973053        40.793209         -73.972923   \n",
       "\n",
       "   dropoff_latitude  store_and_fwd_flag  trip_duration  distance   direction  \\\n",
       "0         40.765602                   0       6.122493  0.915699   99.970196   \n",
       "1         40.731152                   0       6.498282  1.031584 -117.153768   \n",
       "2         40.710087                   0       7.661527  1.999464 -159.680165   \n",
       "3         40.706718                   0       6.063785  0.910473 -172.737700   \n",
       "4         40.782520                   0       6.077642  0.783257  179.473585   \n",
       "\n",
       "      speed  \n",
       "0  0.149563  \n",
       "1  0.158747  \n",
       "2  0.260975  \n",
       "3  0.150149  \n",
       "4  0.128875  "
      ]
     },
     "execution_count": 27,
     "metadata": {},
     "output_type": "execute_result"
    }
   ],
   "source": [
    "train['speed'] = train.distance / train.trip_duration\n",
    "train.head()"
   ]
  },
  {
   "cell_type": "code",
   "execution_count": 28,
   "metadata": {},
   "outputs": [
    {
     "data": {
      "text/plain": [
       "<matplotlib.axes._subplots.AxesSubplot at 0x263b9419a48>"
      ]
     },
     "execution_count": 28,
     "metadata": {},
     "output_type": "execute_result"
    },
    {
     "data": {
      "image/png": "[encoded data removed]",
      "text/plain": [
       "<Figure size 432x288 with 1 Axes>"
      ]
     },
     "metadata": {
      "needs_background": "light"
     },
     "output_type": "display_data"
    }
   ],
   "source": [
    "train['speed'].to_frame().boxplot()"
   ]
  },
  {
   "cell_type": "code",
   "execution_count": 29,
   "metadata": {},
   "outputs": [
    {
     "data": {
      "text/html": [
       "<div>\n",
       "<style scoped>\n",
       "    .dataframe tbody tr th:only-of-type {\n",
       "        vertical-align: middle;\n",
       "    }\n",
       "\n",
       "    .dataframe tbody tr th {\n",
       "        vertical-align: top;\n",
       "    }\n",
       "\n",
       "    .dataframe thead th {\n",
       "        text-align: right;\n",
       "    }\n",
       "</style>\n",
       "<table border=\"1\" class=\"dataframe\">\n",
       "  <thead>\n",
       "    <tr style=\"text-align: right;\">\n",
       "      <th></th>\n",
       "      <th>id</th>\n",
       "      <th>vendor_id</th>\n",
       "      <th>pickup_datetime</th>\n",
       "      <th>dropoff_datetime</th>\n",
       "      <th>passenger_count</th>\n",
       "      <th>pickup_longitude</th>\n",
       "      <th>pickup_latitude</th>\n",
       "      <th>dropoff_longitude</th>\n",
       "      <th>dropoff_latitude</th>\n",
       "      <th>store_and_fwd_flag</th>\n",
       "      <th>trip_duration</th>\n",
       "      <th>distance</th>\n",
       "      <th>direction</th>\n",
       "      <th>speed</th>\n",
       "    </tr>\n",
       "  </thead>\n",
       "  <tbody>\n",
       "    <tr>\n",
       "      <th>1176337</th>\n",
       "      <td>id3619353</td>\n",
       "      <td>2</td>\n",
       "      <td>2016-02-13 20:28:30</td>\n",
       "      <td>2016-02-13 20:28:37</td>\n",
       "      <td>1</td>\n",
       "      <td>-73.936974</td>\n",
       "      <td>40.76461</td>\n",
       "      <td>-73.789848</td>\n",
       "      <td>40.646858</td>\n",
       "      <td>0</td>\n",
       "      <td>2.079442</td>\n",
       "      <td>2.946248</td>\n",
       "      <td>136.506188</td>\n",
       "      <td>1.416846</td>\n",
       "    </tr>\n",
       "  </tbody>\n",
       "</table>\n",
       "</div>"
      ],
      "text/plain": [
       "                id  vendor_id     pickup_datetime    dropoff_datetime  \\\n",
       "1176337  id3619353          2 2016-02-13 20:28:30 2016-02-13 20:28:37   \n",
       "\n",
       "         passenger_count  pickup_longitude  pickup_latitude  \\\n",
       "1176337                1        -73.936974         40.76461   \n",
       "\n",
       "         dropoff_longitude  dropoff_latitude  store_and_fwd_flag  \\\n",
       "1176337         -73.789848         40.646858                   0   \n",
       "\n",
       "         trip_duration  distance   direction     speed  \n",
       "1176337       2.079442  2.946248  136.506188  1.416846  "
      ]
     },
     "execution_count": 29,
     "metadata": {},
     "output_type": "execute_result"
    }
   ],
   "source": [
    "train[train['speed'] > 1.4]"
   ]
  },
  {
   "cell_type": "code",
   "execution_count": 30,
   "metadata": {},
   "outputs": [],
   "source": [
    "train = train[train['speed'] < 1.4]"
   ]
  },
  {
   "cell_type": "code",
   "execution_count": 31,
   "metadata": {},
   "outputs": [],
   "source": [
    "train.drop(['speed'], axis=1, inplace=True)"
   ]
  },
  {
   "cell_type": "markdown",
   "metadata": {},
   "source": [
    "### one-hot encoding"
   ]
  },
  {
   "cell_type": "code",
   "execution_count": 32,
   "metadata": {},
   "outputs": [],
   "source": [
    "train = pd.concat([train, pd.get_dummies(train['store_and_fwd_flag'], prefix='store_and_fwd_flag')], axis=1)\n",
    "test = pd.concat([test, pd.get_dummies(test['store_and_fwd_flag'], prefix='store_and_fwd_flag')], axis=1)\n",
    "\n",
    "train = pd.concat([train, pd.get_dummies(train['vendor_id'], prefix='vendor_id')], axis=1)\n",
    "test = pd.concat([test, pd.get_dummies(test['vendor_id'], prefix='vendor_id')], axis=1)"
   ]
  },
  {
   "cell_type": "code",
   "execution_count": null,
   "metadata": {},
   "outputs": [],
   "source": []
  },
  {
   "cell_type": "markdown",
   "metadata": {},
   "source": [
    "### 날짜 "
   ]
  },
  {
   "cell_type": "code",
   "execution_count": 33,
   "metadata": {},
   "outputs": [],
   "source": [
    "train['month'] = train.pickup_datetime.dt.month\n",
    "train['week'] = train.pickup_datetime.dt.week\n",
    "train['weekday'] = train.pickup_datetime.dt.weekday\n",
    "train['hour'] = train.pickup_datetime.dt.hour\n",
    "train['minute'] = train.pickup_datetime.dt.minute\n",
    "train['minute_oftheday'] = train['hour'] * 60 + train['minute']\n",
    "train.drop(['minute'], axis=1, inplace=True)\n",
    "\n",
    "test['month'] = test.pickup_datetime.dt.month\n",
    "test['week'] = test.pickup_datetime.dt.week\n",
    "test['weekday'] = test.pickup_datetime.dt.weekday\n",
    "test['hour'] = test.pickup_datetime.dt.hour\n",
    "test['minute'] = test.pickup_datetime.dt.minute\n",
    "test['minute_oftheday'] = test['hour'] * 60 + test['minute']\n",
    "test.drop(['minute'], axis=1, inplace=True)"
   ]
  },
  {
   "cell_type": "code",
   "execution_count": null,
   "metadata": {},
   "outputs": [],
   "source": []
  },
  {
   "cell_type": "markdown",
   "metadata": {},
   "source": [
    "### 외부데이터 \n",
    " - https://www.kaggle.com/oscarleo/new-york-city-taxi-with-osrm"
   ]
  },
  {
   "cell_type": "code",
   "execution_count": 34,
   "metadata": {},
   "outputs": [],
   "source": [
    "fastest_routes_train_part_1 = pd.read_csv('new-york-city-taxi-with-osrm/fastest_routes_train_part_1.csv',\n",
    "                  usecols=['id', 'total_distance', 'total_travel_time',  'number_of_steps'])\n",
    "fastest_routes_train_part_2 = pd.read_csv('new-york-city-taxi-with-osrm/fastest_routes_train_part_2.csv',\n",
    "                  usecols=['id', 'total_distance', 'total_travel_time', 'number_of_steps'])\n",
    "fastest_routes_train_part = pd.concat((fastest_routes_train_part_1, fastest_routes_train_part_2))\n",
    "\n",
    "fastest_routes_test = pd.read_csv('new-york-city-taxi-with-osrm/fastest_routes_test.csv',\n",
    "                               usecols=['id', 'total_distance', 'total_travel_time', 'number_of_steps'])"
   ]
  },
  {
   "cell_type": "code",
   "execution_count": 35,
   "metadata": {},
   "outputs": [],
   "source": [
    "train = train.merge(fastest_routes_train_part, how='left', on='id')\n",
    "test = test.merge(fastest_routes_test, how='left', on='id')"
   ]
  },
  {
   "cell_type": "code",
   "execution_count": null,
   "metadata": {},
   "outputs": [],
   "source": [
    "train.isna().sum().sum()\n",
    "test.isna().sum().sum()"
   ]
  },
  {
   "cell_type": "code",
   "execution_count": 36,
   "metadata": {},
   "outputs": [],
   "source": [
    "train.dropna(axis=0, inplace=True)"
   ]
  },
  {
   "cell_type": "code",
   "execution_count": null,
   "metadata": {},
   "outputs": [],
   "source": [
    "train.isna().sum().sum()\n",
    "test.isna().sum().sum()"
   ]
  },
  {
   "cell_type": "code",
   "execution_count": null,
   "metadata": {},
   "outputs": [],
   "source": []
  },
  {
   "cell_type": "markdown",
   "metadata": {},
   "source": [
    "### 클러스터링 "
   ]
  },
  {
   "cell_type": "code",
   "execution_count": 37,
   "metadata": {},
   "outputs": [],
   "source": [
    "lat_long = np.vstack((train[['pickup_latitude', 'pickup_longitude']].values,\n",
    "                    train[['dropoff_latitude', 'dropoff_longitude']].values,\n",
    "                    test[['pickup_latitude', 'pickup_longitude']].values,\n",
    "                    test[['dropoff_latitude', 'dropoff_longitude']].values))\n",
    "\n",
    "kmeans = MiniBatchKMeans(n_clusters=3, init='k-means++').fit(lat_long)\n",
    "\n",
    "train.loc[:, 'pickup_cluster'] = kmeans.predict(train[['pickup_latitude', 'pickup_longitude']])\n",
    "train.loc[:, 'dropoff_cluster'] = kmeans.predict(train[['dropoff_latitude', 'dropoff_longitude']])\n",
    "test.loc[:, 'pickup_cluster'] = kmeans.predict(test[['pickup_latitude', 'pickup_longitude']])\n",
    "test.loc[:, 'dropoff_cluster'] = kmeans.predict(test[['dropoff_latitude', 'dropoff_longitude']])"
   ]
  },
  {
   "cell_type": "code",
   "execution_count": 38,
   "metadata": {},
   "outputs": [],
   "source": [
    "# Feature Extraction\n",
    "time = np.vstack((train[['hour','weekday', 'distance']].values,\n",
    "                    test[['hour','weekday', 'distance']].values\n",
    "                   ))\n",
    "\n",
    "kmeans = MiniBatchKMeans(n_clusters=2, init='k-means++').fit(time)\n",
    "\n",
    "train.loc[:, 'time_cluster'] = kmeans.predict(train[['hour','weekday', 'distance']])\n",
    "test.loc[:, 'time_cluster'] = kmeans.predict(test[['hour','weekday', 'distance']])"
   ]
  },
  {
   "cell_type": "code",
   "execution_count": null,
   "metadata": {},
   "outputs": [],
   "source": []
  },
  {
   "cell_type": "markdown",
   "metadata": {},
   "source": [
    "## 상관관계\n",
    "\n",
    "- pickup_datetime \n",
    "- pickup_longitude, pickup_latitude, dropoff_longitude, dropoff_latitude\n",
    "- distance, total_distance\n",
    "- store_and_fwd_flag_0, store_and_fwd_flag_1, vendor_id_1, vendor_id_2 \n",
    "- month, week, weekday, hour, minute_oftheday\n",
    "- number_of_steps \n",
    "- pickup_cluster, dropoff_cluster, time_cluster      \n",
    "- dropoff_datetime, total_travel_time, trip_duration"
   ]
  },
  {
   "cell_type": "code",
   "execution_count": null,
   "metadata": {},
   "outputs": [],
   "source": [
    "corr_cols = ['pickup_datetime'\n",
    ", 'pickup_longitude', 'pickup_latitude', 'dropoff_longitude', 'dropoff_latitude'\n",
    ", 'distance', 'total_distance'\n",
    ", 'store_and_fwd_flag_0', 'store_and_fwd_flag_1', 'vendor_id_1', 'vendor_id_2'\n",
    ", 'month', 'week', 'weekday', 'hour', 'minute_oftheday'\n",
    ", 'number_of_steps'\n",
    ", 'pickup_cluster', 'dropoff_cluster', 'time_cluster'\n",
    ", 'dropoff_datetime', 'total_travel_time', 'trip_duration']"
   ]
  },
  {
   "cell_type": "code",
   "execution_count": null,
   "metadata": {},
   "outputs": [],
   "source": [
    "plt.figure(figsize=(30, 8))\n",
    "sns.heatmap(train[corr_cols].corr(),annot=True,cmap='RdYlGn', linewidths=0.2, annot_kws={'size':20})\n",
    "plt.show()"
   ]
  },
  {
   "cell_type": "code",
   "execution_count": null,
   "metadata": {},
   "outputs": [],
   "source": []
  },
  {
   "cell_type": "code",
   "execution_count": null,
   "metadata": {},
   "outputs": [],
   "source": []
  },
  {
   "cell_type": "code",
   "execution_count": null,
   "metadata": {},
   "outputs": [],
   "source": []
  },
  {
   "cell_type": "markdown",
   "metadata": {},
   "source": [
    "# 3. 모델 학습"
   ]
  },
  {
   "cell_type": "code",
   "execution_count": 39,
   "metadata": {},
   "outputs": [],
   "source": [
    "from lightgbm import LGBMRegressor"
   ]
  },
  {
   "cell_type": "markdown",
   "metadata": {},
   "source": [
    "## 데이터 준비"
   ]
  },
  {
   "cell_type": "code",
   "execution_count": 40,
   "metadata": {},
   "outputs": [],
   "source": [
    "cols = [\n",
    "'pickup_longitude', 'pickup_latitude', 'dropoff_longitude', 'dropoff_latitude'\n",
    ", 'distance', 'total_distance'\n",
    ", 'store_and_fwd_flag_0', 'store_and_fwd_flag_1', 'vendor_id_1', 'vendor_id_2'\n",
    ", 'month', 'week', 'weekday', 'hour', 'minute_oftheday'\n",
    ", 'number_of_steps'\n",
    ", 'pickup_cluster', 'dropoff_cluster', 'time_cluster'\n",
    ", 'total_travel_time']"
   ]
  },
  {
   "cell_type": "code",
   "execution_count": 41,
   "metadata": {},
   "outputs": [],
   "source": [
    "X_train, X_test, y_train, y_test = train_test_split(train[cols], train['trip_duration'], test_size=0.2, shuffle=True, random_state=42)"
   ]
  },
  {
   "cell_type": "code",
   "execution_count": null,
   "metadata": {},
   "outputs": [],
   "source": []
  },
  {
   "cell_type": "markdown",
   "metadata": {},
   "source": [
    "### Feature Extraction "
   ]
  },
  {
   "cell_type": "code",
   "execution_count": 43,
   "metadata": {},
   "outputs": [],
   "source": [
    "def importance_plotting(data, xlabel, ylabel, n=20):\n",
    "    sns.set(style=\"whitegrid\")\n",
    "    ax = data.tail(n).plot(kind='barh')\n",
    "    \n",
    "    ax.set(xlabel=xlabel, ylabel=ylabel)\n",
    "    ax.xaxis.grid(False)\n",
    "    ax.yaxis.grid(True)\n",
    "    plt.show()"
   ]
  },
  {
   "cell_type": "code",
   "execution_count": 44,
   "metadata": {},
   "outputs": [
    {
     "data": {
      "text/plain": [
       "LGBMRegressor(bagging_fraction=0.5, boosting_type='gbdt', class_weight=None,\n",
       "              colsample_bytree=1.0, feature_fraction=0.9,\n",
       "              importance_type='split', learning_rate=0.1, max_bin=1000,\n",
       "              max_depth=-1, min_child_samples=20, min_child_weight=0.001,\n",
       "              min_split_gain=0.0, n_estimators=100, n_jobs=-1,\n",
       "              num_boost_round=1000, num_leaves=1000, objective=None,\n",
       "              random_state=42, reg_alpha=0.0, reg_lambda=0.0, silent=True,\n",
       "              subsample=1.0, subsample_for_bin=200000, subsample_freq=0)"
      ]
     },
     "execution_count": 44,
     "metadata": {},
     "output_type": "execute_result"
    }
   ],
   "source": [
    "lgb_reg.fit(train[cols], train['trip_duration'])"
   ]
  },
  {
   "cell_type": "code",
   "execution_count": 45,
   "metadata": {},
   "outputs": [
    {
     "data": {
      "image/png": "[encoded data removed]",
      "text/plain": [
       "<Figure size 432x288 with 1 Axes>"
      ]
     },
     "metadata": {},
     "output_type": "display_data"
    }
   ],
   "source": [
    "fi = {'Features':cols, 'Importance':lgb_reg.feature_importances_}\n",
    "importance = pd.DataFrame(fi, index=fi['Features']).sort_values('Importance', ascending=True)\n",
    "\n",
    "importance_plotting(importance, 'Importance', 'Features', 20)"
   ]
  },
  {
   "cell_type": "code",
   "execution_count": 46,
   "metadata": {},
   "outputs": [],
   "source": [
    "cols = [\n",
    "'pickup_longitude', 'pickup_latitude', 'dropoff_longitude', 'dropoff_latitude'\n",
    ", 'distance', 'total_distance'\n",
    "#, 'store_and_fwd_flag_0', 'store_and_fwd_flag_1'\n",
    ", 'vendor_id_1'#, 'vendor_id_2'\n",
    ", 'month', 'week', 'weekday', 'hour', 'minute_oftheday'\n",
    ", 'number_of_steps'\n",
    "#, 'pickup_cluster', 'dropoff_cluster', 'time_cluster'\n",
    ", 'total_travel_time']"
   ]
  },
  {
   "cell_type": "code",
   "execution_count": 47,
   "metadata": {},
   "outputs": [],
   "source": [
    "X_train, X_test, y_train, y_test = train_test_split(train[cols], train['trip_duration'], test_size=0.2, shuffle=True, random_state=42)"
   ]
  },
  {
   "cell_type": "code",
   "execution_count": 93,
   "metadata": {},
   "outputs": [
    {
     "data": {
      "text/plain": [
       "196"
      ]
     },
     "execution_count": 93,
     "metadata": {},
     "output_type": "execute_result"
    }
   ],
   "source": [
    "gc.collect()"
   ]
  },
  {
   "cell_type": "markdown",
   "metadata": {},
   "source": [
    "## 하이퍼파라미터 튜닝"
   ]
  },
  {
   "cell_type": "code",
   "execution_count": 94,
   "metadata": {},
   "outputs": [
    {
     "name": "stdout",
     "output_type": "stream",
     "text": [
      "0.3130402736927324 {'reg_lambda': 20}\n",
      "Wall time: 7min 52s\n"
     ]
    }
   ],
   "source": [
    "%%time\n",
    "lgb_reg = LGBMRegressor(n_jobs=-1, random_state=42, learning_rate=0.1\n",
    "                        , n_estimators=400, max_depth=15\n",
    "                        , num_leaves=1400\n",
    "                        , bagging_fraction=0.4, feature_fraction=0.9\n",
    "                        , max_bin=1200\n",
    "                        #, num_boost_round=1000\n",
    "                       )\n",
    "\n",
    "max_features = [400, 500]\n",
    "\n",
    "params = {'max_features': max_features\n",
    "         }\n",
    "\n",
    "gscv = GridSearchCV(lgb_reg, param_grid=params, scoring='neg_mean_squared_error', cv=3)\n",
    "gscv.fit(X_train, y_train)\n",
    "\n",
    "rmse = np.sqrt(-1* gscv.best_score_)\n",
    "\n",
    "print(rmse, gscv.best_params_)"
   ]
  },
  {
   "cell_type": "code",
   "execution_count": null,
   "metadata": {},
   "outputs": [],
   "source": []
  },
  {
   "cell_type": "markdown",
   "metadata": {},
   "source": [
    "## 모델 훈련"
   ]
  },
  {
   "cell_type": "code",
   "execution_count": 219,
   "metadata": {},
   "outputs": [
    {
     "data": {
      "text/plain": [
       "20"
      ]
     },
     "execution_count": 219,
     "metadata": {},
     "output_type": "execute_result"
    }
   ],
   "source": [
    "gc.collect()"
   ]
  },
  {
   "cell_type": "code",
   "execution_count": 227,
   "metadata": {},
   "outputs": [
    {
     "data": {
      "text/plain": [
       "71"
      ]
     },
     "execution_count": 227,
     "metadata": {},
     "output_type": "execute_result"
    },
    {
     "data": {
      "text/plain": [
       "LGBMRegressor(bagging_fraction=0.1, boosting_type='gbdt', class_weight=None,\n",
       "              colsample_bytree=1.0, feature_fraction=0.9,\n",
       "              importance_type='split', learning_rate=0.01, max_depth=30,\n",
       "              min_child_samples=20, min_child_weight=0.001, min_split_gain=0.0,\n",
       "              n_estimators=100, n_jobs=-1, num_boost_round=1000,\n",
       "              num_iterations=1000, num_leaves=800, objective=None,\n",
       "              random_state=42, reg_alpha=0.0, reg_lambda=0.0, silent=True,\n",
       "              subsample=1.0, subsample_for_bin=200000, subsample_freq=0)"
      ]
     },
     "execution_count": 227,
     "metadata": {},
     "output_type": "execute_result"
    }
   ],
   "source": [
    "gc.collect()\n",
    "\n",
    "lgb_reg = LGBMRegressor(n_jobs=-1, random_state=42\n",
    "                        , max_depth=30\n",
    "                        , num_leaves=800\n",
    "                        , feature_fraction=0.9\n",
    "                        , learning_rate=0.01, num_iterations=1000\n",
    "                        \n",
    "                        \n",
    "                        #, max_features=0.2\n",
    "                        , num_boost_round=1000\n",
    "                       )\n",
    "\n",
    "lgb_reg.fit(train[cols], train['trip_duration'])\n",
    "predictions = lgb_reg.predict(test[cols])\n",
    "submission = pd.DataFrame({'id': test.id, 'trip_duration': np.expm1(predictions)})\n",
    "submission.to_csv(\"./output/bagging_fraction-1.csv\", index=False)"
   ]
  },
  {
   "cell_type": "code",
   "execution_count": null,
   "metadata": {},
   "outputs": [],
   "source": [
    "0.40464 -\n",
    "0.40464 5\n"
   ]
  },
  {
   "cell_type": "code",
   "execution_count": null,
   "metadata": {},
   "outputs": [],
   "source": []
  },
  {
   "cell_type": "code",
   "execution_count": null,
   "metadata": {},
   "outputs": [],
   "source": []
  },
  {
   "cell_type": "code",
   "execution_count": null,
   "metadata": {},
   "outputs": [],
   "source": []
  },
  {
   "cell_type": "code",
   "execution_count": null,
   "metadata": {},
   "outputs": [],
   "source": [
    "importance"
   ]
  },
  {
   "cell_type": "markdown",
   "metadata": {},
   "source": [
    "# 4. 예측"
   ]
  },
  {
   "cell_type": "code",
   "execution_count": 104,
   "metadata": {},
   "outputs": [],
   "source": [
    "predictions = lgb_reg.predict(test[cols])"
   ]
  },
  {
   "cell_type": "code",
   "execution_count": null,
   "metadata": {},
   "outputs": [],
   "source": []
  },
  {
   "cell_type": "markdown",
   "metadata": {},
   "source": [
    "# 5. 제출"
   ]
  },
  {
   "cell_type": "code",
   "execution_count": 105,
   "metadata": {},
   "outputs": [],
   "source": [
    "submission = pd.DataFrame({'id': test.id, 'trip_duration': np.expm1(predictions)})\n",
    "submission.to_csv(\"./output/20200905-10.csv\", index=False)"
   ]
  },
  {
   "cell_type": "code",
   "execution_count": null,
   "metadata": {},
   "outputs": [],
   "source": []
  },
  {
   "cell_type": "code",
   "execution_count": 106,
   "metadata": {},
   "outputs": [
    {
     "data": {
      "text/plain": [
       "151"
      ]
     },
     "execution_count": 106,
     "metadata": {},
     "output_type": "execute_result"
    }
   ],
   "source": [
    "gc.collect()"
   ]
  },
  {
   "cell_type": "code",
   "execution_count": null,
   "metadata": {},
   "outputs": [],
   "source": []
  }
 ],
 "metadata": {
  "kernelspec": {
   "display_name": "Python 3",
   "language": "python",
   "name": "python3"
  },
  "language_info": {
   "codemirror_mode": {
    "name": "ipython",
    "version": 3
   },
   "file_extension": ".py",
   "mimetype": "text/x-python",
   "name": "python",
   "nbconvert_exporter": "python",
   "pygments_lexer": "ipython3",
   "version": "3.7.6"
  }
 },
 "nbformat": 4,
 "nbformat_minor": 4
}
